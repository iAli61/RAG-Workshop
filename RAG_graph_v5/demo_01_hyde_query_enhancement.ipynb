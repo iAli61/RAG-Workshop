{
 "cells": [
  {
   "cell_type": "markdown",
   "id": "839100b4",
   "metadata": {},
   "source": [
    "# Demo #1: HyDE Query Enhancement\n",
    "\n",
    "## Learning Objectives\n",
    "\n",
    "In this demonstration, you will learn:\n",
    "\n",
    "1. **The Semantic Gap Problem**: Understanding why user queries often don't match the vocabulary and structure of source documents\n",
    "2. **Hypothetical Document Embeddings (HyDE)**: How generating a hypothetical answer bridges the semantic gap\n",
    "3. **Pre-Retrieval Query Transformation**: How transforming queries before retrieval improves relevance\n",
    "4. **Comparative Analysis**: Measuring the improvement from baseline RAG to HyDE-enhanced RAG\n",
    "\n",
    "## Theoretical Background\n",
    "\n",
    "**Hypothetical Document Embeddings (HyDE)** operates on a key insight: an *answer* to a question is often semantically closer to relevant documents than the *question* itself.\n",
    "\n",
    "For example:\n",
    "- **Query**: \"What causes overfitting?\"\n",
    "- **Hypothetical Answer**: \"Overfitting occurs when a model learns the training data too well, including noise and outliers, resulting in poor generalization to new data. It's often caused by model complexity, insufficient training data, or lack of regularization.\"\n",
    "\n",
    "The hypothetical answer, while potentially containing inaccuracies, captures the expected terminology, structure, and semantic patterns of relevant source documents much better than the original query.\n",
    "\n",
    "### How HyDE Works\n",
    "\n",
    "1. User submits a query\n",
    "2. LLM generates a hypothetical document answering the query\n",
    "3. The hypothetical document is embedded\n",
    "4. Vector search uses the hypothetical document's embedding (not the query's embedding)\n",
    "5. Retrieved context is used to generate the final, grounded answer\n",
    "\n",
    "**Key Citations**:\n",
    "- Advanced RAG Techniques: From Pre-Retrieval to Generation (Reference 18)\n",
    "- Mastering RAG: From Fundamentals to Advanced Query Transformation Techniques (Reference 6)"
   ]
  },
  {
   "cell_type": "markdown",
   "id": "b0a47b42",
   "metadata": {},
   "source": [
    "## 1. Environment Setup\n",
    "\n",
    "First, we'll import required libraries and configure Azure OpenAI credentials."
   ]
  },
  {
   "cell_type": "code",
   "execution_count": 5,
   "id": "13a997be",
   "metadata": {},
   "outputs": [
    {
     "name": "stdout",
     "output_type": "stream",
     "text": [
      "✓ All imports successful\n"
     ]
    }
   ],
   "source": [
    "# Core imports\n",
    "import os\n",
    "from pathlib import Path\n",
    "import warnings\n",
    "warnings.filterwarnings('ignore')\n",
    "\n",
    "from dotenv import load_dotenv\n",
    "# env \n",
    "load_dotenv()\n",
    "# Verify environment variables\n",
    "api_key = os.getenv(\"AZURE_OPENAI_API_KEY\")\n",
    "azure_endpoint = os.getenv(\"AZURE_OPENAI_ENDPOINT\")\n",
    "api_version = os.getenv(\"AZURE_OPENAI_API_VERSION\")\n",
    "\n",
    "# LlamaIndex core components\n",
    "from llama_index.core import (\n",
    "    SimpleDirectoryReader,\n",
    "    VectorStoreIndex,\n",
    "    Settings\n",
    ")\n",
    "from llama_index.core.indices.query.query_transform import HyDEQueryTransform\n",
    "\n",
    "# Azure OpenAI components\n",
    "from llama_index.llms.azure_openai import AzureOpenAI\n",
    "from llama_index.embeddings.azure_openai import AzureOpenAIEmbedding\n",
    "\n",
    "print(\"✓ All imports successful\")"
   ]
  },
  {
   "cell_type": "code",
   "execution_count": 8,
   "id": "891a49f2",
   "metadata": {},
   "outputs": [
    {
     "name": "stdout",
     "output_type": "stream",
     "text": [
      "✓ Azure OpenAI configured successfully\n",
      "  LLM: gpt-4o\n",
      "  Embedding Model: text-embedding-ada-002\n"
     ]
    }
   ],
   "source": [
    "# Azure OpenAI Configuration\n",
    "# NOTE: Replace these with your actual Azure OpenAI credentials\n",
    "\n",
    "# LLM Configuration (GPT-4)\n",
    "llm = AzureOpenAI(\n",
    "    model=\"gpt-4o\",\n",
    "    deployment_name=os.getenv(\"AZURE_OPENAI_DEPLOYMENT_NAME\", \"gpt-4o\"),\n",
    "    api_key=os.getenv(\"AZURE_OPENAI_API_KEY\"),\n",
    "    azure_endpoint=os.getenv(\"AZURE_OPENAI_ENDPOINT\"),\n",
    "    api_version=\"2024-02-15-preview\",\n",
    "    temperature=0.1  # Low temperature for consistent, factual responses\n",
    ")\n",
    "\n",
    "# Embedding Model Configuration (text-embedding-ada-002)\n",
    "embed_model = AzureOpenAIEmbedding(\n",
    "    model=\"text-embedding-ada-002\",\n",
    "    deployment_name=os.getenv(\"AZURE_OPENAI_EMBEDDING_DEPLOYMENT\"),\n",
    "    api_key=api_key,\n",
    "    azure_endpoint=azure_endpoint,\n",
    "    api_version=api_version,\n",
    ")\n",
    "\n",
    "# Set global defaults for LlamaIndex\n",
    "Settings.llm = llm\n",
    "Settings.embed_model = embed_model\n",
    "Settings.chunk_size = 512\n",
    "Settings.chunk_overlap = 50\n",
    "\n",
    "print(\"✓ Azure OpenAI configured successfully\")\n",
    "print(f\"  LLM: {llm.model}\")\n",
    "print(f\"  Embedding Model: {embed_model.model_name}\")"
   ]
  },
  {
   "cell_type": "markdown",
   "id": "308e6892",
   "metadata": {},
   "source": [
    "## 2. Data Preparation\n",
    "\n",
    "We'll load 3-4 technical documents about machine learning concepts. These documents will serve as our knowledge base."
   ]
  },
  {
   "cell_type": "code",
   "execution_count": 9,
   "id": "b1cc906e",
   "metadata": {},
   "outputs": [
    {
     "name": "stdout",
     "output_type": "stream",
     "text": [
      "✓ Loaded 3 documents:\n",
      "  1. gradient_boosting.md (233 words)\n",
      "  2. kmeans_clustering.md (417 words)\n",
      "  3. neural_networks.md (274 words)\n"
     ]
    }
   ],
   "source": [
    "# Load documents from the ml_concepts directory\n",
    "data_path = Path(\"./data/ml_concepts\")\n",
    "\n",
    "# Load only a subset of documents for this demo\n",
    "documents = SimpleDirectoryReader(\n",
    "    input_dir=str(data_path),\n",
    "    required_exts=[\".md\"],\n",
    "    recursive=False\n",
    ").load_data()\n",
    "\n",
    "# Limit to first 3 documents for clarity\n",
    "documents = documents[:3]\n",
    "\n",
    "print(f\"✓ Loaded {len(documents)} documents:\")\n",
    "for i, doc in enumerate(documents, 1):\n",
    "    filename = Path(doc.metadata.get('file_name', 'unknown')).name\n",
    "    word_count = len(doc.text.split())\n",
    "    print(f\"  {i}. {filename} ({word_count} words)\")"
   ]
  },
  {
   "cell_type": "markdown",
   "id": "706cfd4a",
   "metadata": {},
   "source": [
    "## 3. Baseline RAG Implementation\n",
    "\n",
    "First, let's create a standard RAG system without any query transformation. This will serve as our baseline for comparison."
   ]
  },
  {
   "cell_type": "code",
   "execution_count": 10,
   "id": "c3b208aa",
   "metadata": {},
   "outputs": [
    {
     "name": "stdout",
     "output_type": "stream",
     "text": [
      "Building baseline vector index...\n"
     ]
    },
    {
     "data": {
      "application/vnd.jupyter.widget-view+json": {
       "model_id": "32d1b5d6625a4f529d2523518e08e20e",
       "version_major": 2,
       "version_minor": 0
      },
      "text/plain": [
       "Parsing nodes:   0%|          | 0/3 [00:00<?, ?it/s]"
      ]
     },
     "metadata": {},
     "output_type": "display_data"
    },
    {
     "data": {
      "application/vnd.jupyter.widget-view+json": {
       "model_id": "81291f7c3c674e8db88de2438c4b8ca7",
       "version_major": 2,
       "version_minor": 0
      },
      "text/plain": [
       "Generating embeddings:   0%|          | 0/4 [00:00<?, ?it/s]"
      ]
     },
     "metadata": {},
     "output_type": "display_data"
    },
    {
     "name": "stderr",
     "output_type": "stream",
     "text": [
      "2025-10-16 14:30:40,285 - INFO - HTTP Request: POST https://aoai-sweden-505.openai.azure.com/openai/deployments/text-embedding-ada-002/embeddings?api-version=2024-12-01-preview \"HTTP/1.1 200 OK\"\n"
     ]
    },
    {
     "name": "stdout",
     "output_type": "stream",
     "text": [
      "✓ Baseline RAG system ready\n"
     ]
    }
   ],
   "source": [
    "# Create vector store index with default embedding\n",
    "print(\"Building baseline vector index...\")\n",
    "baseline_index = VectorStoreIndex.from_documents(\n",
    "    documents,\n",
    "    show_progress=True\n",
    ")\n",
    "\n",
    "# Create baseline query engine\n",
    "baseline_query_engine = baseline_index.as_query_engine(\n",
    "    similarity_top_k=3,  # Retrieve top 3 most similar chunks\n",
    "    response_mode=\"compact\"  # Concise response generation\n",
    ")\n",
    "\n",
    "print(\"✓ Baseline RAG system ready\")"
   ]
  },
  {
   "cell_type": "markdown",
   "id": "b2d44097",
   "metadata": {},
   "source": [
    "## 4. HyDE Implementation\n",
    "\n",
    "Now, let's implement HyDE query transformation. The `HyDEQueryTransform` will:\n",
    "1. Take the user's query\n",
    "2. Generate a hypothetical document using the LLM\n",
    "3. Use that hypothetical document for embedding and retrieval"
   ]
  },
  {
   "cell_type": "code",
   "execution_count": 11,
   "id": "869f7ba6",
   "metadata": {},
   "outputs": [
    {
     "name": "stdout",
     "output_type": "stream",
     "text": [
      "✓ HyDE-enhanced RAG system ready\n"
     ]
    }
   ],
   "source": [
    "# Create HyDE query transformer\n",
    "hyde_transform = HyDEQueryTransform(\n",
    "    llm=llm,\n",
    "    include_original=True  # Include original query alongside hypothetical document\n",
    ")\n",
    "\n",
    "# Create HyDE-enhanced query engine using the same index\n",
    "hyde_query_engine = baseline_index.as_query_engine(\n",
    "    similarity_top_k=3,\n",
    "    response_mode=\"compact\",\n",
    "    query_transform=hyde_transform  # Add HyDE transformation\n",
    ")\n",
    "\n",
    "print(\"✓ HyDE-enhanced RAG system ready\")"
   ]
  },
  {
   "cell_type": "markdown",
   "id": "8be49507",
   "metadata": {},
   "source": [
    "## 5. Comparison and Analysis\n",
    "\n",
    "Let's test both systems with the same queries and compare the results."
   ]
  },
  {
   "cell_type": "code",
   "execution_count": 12,
   "id": "a1367f23",
   "metadata": {},
   "outputs": [
    {
     "name": "stdout",
     "output_type": "stream",
     "text": [
      "\n",
      "================================================================================\n",
      "TEST QUERY: Why do models memorize training data?\n",
      "================================================================================\n",
      "\n"
     ]
    }
   ],
   "source": [
    "# Test queries designed to expose the semantic gap\n",
    "test_queries = [\n",
    "    \"Why do models memorize training data?\",\n",
    "    \"How can I group similar data points automatically?\",\n",
    "    \"What makes ensemble methods work better?\"\n",
    "]\n",
    "\n",
    "# Let's test with the first query\n",
    "query = test_queries[0]\n",
    "print(f\"\\n{'='*80}\")\n",
    "print(f\"TEST QUERY: {query}\")\n",
    "print(f\"{'='*80}\\n\")"
   ]
  },
  {
   "cell_type": "markdown",
   "id": "7a86ef25",
   "metadata": {},
   "source": [
    "### 5.1 Baseline RAG Response"
   ]
  },
  {
   "cell_type": "code",
   "execution_count": 13,
   "id": "6b4f8fa4",
   "metadata": {},
   "outputs": [
    {
     "name": "stdout",
     "output_type": "stream",
     "text": [
      "🔍 BASELINE RAG (Standard Retrieval)\n",
      "--------------------------------------------------------------------------------\n"
     ]
    },
    {
     "name": "stderr",
     "output_type": "stream",
     "text": [
      "2025-10-16 14:30:52,183 - INFO - HTTP Request: POST https://aoai-sweden-505.openai.azure.com/openai/deployments/text-embedding-ada-002/embeddings?api-version=2024-12-01-preview \"HTTP/1.1 200 OK\"\n",
      "2025-10-16 14:30:54,233 - INFO - HTTP Request: POST https://aoai-sweden-505.openai.azure.com/openai/deployments/gpt-4o/chat/completions?api-version=2024-02-15-preview \"HTTP/1.1 200 OK\"\n",
      "2025-10-16 14:30:54,233 - INFO - HTTP Request: POST https://aoai-sweden-505.openai.azure.com/openai/deployments/gpt-4o/chat/completions?api-version=2024-02-15-preview \"HTTP/1.1 200 OK\"\n"
     ]
    },
    {
     "name": "stdout",
     "output_type": "stream",
     "text": [
      "\n",
      "📄 Retrieved Context (Top 3 Chunks):\n",
      "\n",
      "  Chunk 1 (Score: 0.7589):\n",
      "  Source: neural_networks.md\n",
      "  Text: # Neural Networks\n",
      "\n",
      "Neural Networks are computational models inspired by the human brain, consisting of interconnected nodes (neurons) organized in layers that process information through weighted conn...\n",
      "\n",
      "  Chunk 2 (Score: 0.7502):\n",
      "  Source: gradient_boosting.md\n",
      "  Text: # Gradient Boosting\n",
      "\n",
      "Gradient Boosting is an ensemble machine learning technique that builds a strong predictive model by combining multiple weak learners, typically decision trees, in a sequential ma...\n",
      "\n",
      "  Chunk 3 (Score: 0.7168):\n",
      "  Source: kmeans_clustering.md\n",
      "  Text: # K-Means Clustering\n",
      "\n",
      "K-Means is an unsupervised learning algorithm that partitions data into K distinct, non-overlapping clusters based on feature similarity. It's one of the simplest and most popula...\n",
      "\n",
      "💬 Generated Answer:\n",
      "  Models may memorize training data due to overfitting, which occurs when a model learns the noise and details of the training dataset rather than the underlying patterns. This can happen if the model is too complex or if there is insufficient regularization. As a result, the model performs well on the training data but poorly on unseen data, as it has not generalized the patterns effectively. Techniques such as regularization, cross-validation, and simplifying the model architecture can help mitigate overfitting and improve generalization.\n",
      "\n"
     ]
    }
   ],
   "source": [
    "print(\"🔍 BASELINE RAG (Standard Retrieval)\")\n",
    "print(\"-\" * 80)\n",
    "\n",
    "# Query baseline system\n",
    "baseline_response = baseline_query_engine.query(query)\n",
    "\n",
    "print(\"\\n📄 Retrieved Context (Top 3 Chunks):\")\n",
    "for i, node in enumerate(baseline_response.source_nodes, 1):\n",
    "    print(f\"\\n  Chunk {i} (Score: {node.score:.4f}):\")\n",
    "    print(f\"  Source: {Path(node.metadata.get('file_name', 'unknown')).name}\")\n",
    "    print(f\"  Text: {node.text[:200]}...\")\n",
    "\n",
    "print(\"\\n💬 Generated Answer:\")\n",
    "print(f\"  {baseline_response.response}\")\n",
    "print()"
   ]
  },
  {
   "cell_type": "markdown",
   "id": "67dcb9de",
   "metadata": {},
   "source": [
    "### 5.2 HyDE-Enhanced RAG Response"
   ]
  },
  {
   "cell_type": "code",
   "execution_count": 14,
   "id": "3bd8cc80",
   "metadata": {},
   "outputs": [
    {
     "name": "stdout",
     "output_type": "stream",
     "text": [
      "🔍 HYDE-ENHANCED RAG (Hypothetical Document Retrieval)\n",
      "--------------------------------------------------------------------------------\n"
     ]
    },
    {
     "name": "stderr",
     "output_type": "stream",
     "text": [
      "2025-10-16 14:31:00,616 - INFO - HTTP Request: POST https://aoai-sweden-505.openai.azure.com/openai/deployments/gpt-4o/chat/completions?api-version=2024-02-15-preview \"HTTP/1.1 200 OK\"\n"
     ]
    },
    {
     "name": "stdout",
     "output_type": "stream",
     "text": [
      "\n",
      "📝 Generated Hypothetical Document:\n",
      "--------------------------------------------------------------------------------\n",
      "Why do models memorize training data?...\n",
      "--------------------------------------------------------------------------------\n"
     ]
    },
    {
     "name": "stderr",
     "output_type": "stream",
     "text": [
      "2025-10-16 14:31:00,926 - INFO - HTTP Request: POST https://aoai-sweden-505.openai.azure.com/openai/deployments/text-embedding-ada-002/embeddings?api-version=2024-12-01-preview \"HTTP/1.1 200 OK\"\n",
      "2025-10-16 14:31:01,888 - INFO - HTTP Request: POST https://aoai-sweden-505.openai.azure.com/openai/deployments/gpt-4o/chat/completions?api-version=2024-02-15-preview \"HTTP/1.1 200 OK\"\n",
      "2025-10-16 14:31:01,888 - INFO - HTTP Request: POST https://aoai-sweden-505.openai.azure.com/openai/deployments/gpt-4o/chat/completions?api-version=2024-02-15-preview \"HTTP/1.1 200 OK\"\n"
     ]
    },
    {
     "name": "stdout",
     "output_type": "stream",
     "text": [
      "\n",
      "📄 Retrieved Context (Top 3 Chunks):\n",
      "\n",
      "  Chunk 1 (Score: 0.7589):\n",
      "  Source: neural_networks.md\n",
      "  Text: # Neural Networks\n",
      "\n",
      "Neural Networks are computational models inspired by the human brain, consisting of interconnected nodes (neurons) organized in layers that process information through weighted conn...\n",
      "\n",
      "  Chunk 2 (Score: 0.7502):\n",
      "  Source: gradient_boosting.md\n",
      "  Text: # Gradient Boosting\n",
      "\n",
      "Gradient Boosting is an ensemble machine learning technique that builds a strong predictive model by combining multiple weak learners, typically decision trees, in a sequential ma...\n",
      "\n",
      "  Chunk 3 (Score: 0.7168):\n",
      "  Source: kmeans_clustering.md\n",
      "  Text: # K-Means Clustering\n",
      "\n",
      "K-Means is an unsupervised learning algorithm that partitions data into K distinct, non-overlapping clusters based on feature similarity. It's one of the simplest and most popula...\n",
      "\n",
      "💬 Generated Answer:\n",
      "  Models can memorize training data when they become overly complex and fit the training data too closely, capturing noise and specific patterns that do not generalize well to new, unseen data. This phenomenon, known as overfitting, occurs when a model learns the training data's details and anomalies rather than the underlying patterns that are applicable to broader datasets. Overfitting can be mitigated through techniques such as regularization, cross-validation, and using simpler models or architectures.\n",
      "\n"
     ]
    }
   ],
   "source": [
    "print(\"🔍 HYDE-ENHANCED RAG (Hypothetical Document Retrieval)\")\n",
    "print(\"-\" * 80)\n",
    "\n",
    "# First, let's manually generate the hypothetical document to show the transformation\n",
    "from llama_index.core import QueryBundle\n",
    "\n",
    "query_bundle = QueryBundle(query_str=query)\n",
    "transformed_query = hyde_transform.run(query_bundle)\n",
    "\n",
    "print(\"\\n📝 Generated Hypothetical Document:\")\n",
    "print(\"-\" * 80)\n",
    "print(transformed_query.query_str[:500] + \"...\")\n",
    "print(\"-\" * 80)\n",
    "\n",
    "# Now query with HyDE\n",
    "hyde_response = hyde_query_engine.query(query)\n",
    "\n",
    "print(\"\\n📄 Retrieved Context (Top 3 Chunks):\")\n",
    "for i, node in enumerate(hyde_response.source_nodes, 1):\n",
    "    print(f\"\\n  Chunk {i} (Score: {node.score:.4f}):\")\n",
    "    print(f\"  Source: {Path(node.metadata.get('file_name', 'unknown')).name}\")\n",
    "    print(f\"  Text: {node.text[:200]}...\")\n",
    "\n",
    "print(\"\\n💬 Generated Answer:\")\n",
    "print(f\"  {hyde_response.response}\")\n",
    "print()"
   ]
  },
  {
   "cell_type": "markdown",
   "id": "f0cc2a31",
   "metadata": {},
   "source": [
    "## 6. Detailed Comparison\n",
    "\n",
    "Let's create a side-by-side comparison for multiple queries."
   ]
  },
  {
   "cell_type": "code",
   "execution_count": 15,
   "id": "aa5ac19e",
   "metadata": {},
   "outputs": [
    {
     "name": "stdout",
     "output_type": "stream",
     "text": [
      "\n",
      "====================================================================================================\n",
      "QUERY: Why do models memorize training data?\n",
      "====================================================================================================\n",
      "\n"
     ]
    },
    {
     "name": "stderr",
     "output_type": "stream",
     "text": [
      "2025-10-16 14:32:41,650 - INFO - HTTP Request: POST https://aoai-sweden-505.openai.azure.com/openai/deployments/text-embedding-ada-002/embeddings?api-version=2024-12-01-preview \"HTTP/1.1 200 OK\"\n",
      "2025-10-16 14:32:42,744 - INFO - HTTP Request: POST https://aoai-sweden-505.openai.azure.com/openai/deployments/gpt-4o/chat/completions?api-version=2024-02-15-preview \"HTTP/1.1 200 OK\"\n",
      "2025-10-16 14:32:42,985 - INFO - HTTP Request: POST https://aoai-sweden-505.openai.azure.com/openai/deployments/text-embedding-ada-002/embeddings?api-version=2024-12-01-preview \"HTTP/1.1 200 OK\"\n",
      "2025-10-16 14:32:44,061 - INFO - HTTP Request: POST https://aoai-sweden-505.openai.azure.com/openai/deployments/gpt-4o/chat/completions?api-version=2024-02-15-preview \"HTTP/1.1 200 OK\"\n",
      "2025-10-16 14:32:44,165 - INFO - HTTP Request: POST https://aoai-sweden-505.openai.azure.com/openai/deployments/text-embedding-ada-002/embeddings?api-version=2024-12-01-preview \"HTTP/1.1 200 OK\"\n"
     ]
    },
    {
     "name": "stdout",
     "output_type": "stream",
     "text": [
      "┌─ BASELINE RAG───────────────────────────────────────────────────────────────────────────────────┐\n",
      "│ Sources: neural_networks, gradient_boosting\n",
      "│ Avg Score: 0.7420\n",
      "│ Answer: Models memorize training data when they overfit, meaning they learn the noise and specific patterns of the training dataset rather than generalizing to unseen data. This happens when the model is too ...\n",
      "└───────────────────────────────────────────────────────────────────────────────────────────────────┘\n",
      "\n",
      "┌─ HYDE RAG───────────────────────────────────────────────────────────────────────────────────────┐\n",
      "│ Sources: neural_networks, gradient_boosting\n",
      "│ Avg Score: 0.7420\n",
      "│ Answer: Models can memorize training data when they become overly complex or are trained for too long without proper regularization. This memorization, known as overfitting, occurs because the model learns no...\n",
      "└───────────────────────────────────────────────────────────────────────────────────────────────────┘\n",
      "\n",
      "📊 Relevance Score Improvement: +0.0000\n",
      "📚 Source Overlap: 3 / 3\n",
      "\n",
      "====================================================================================================\n",
      "QUERY: How can I group similar data points automatically?\n",
      "====================================================================================================\n",
      "\n"
     ]
    },
    {
     "name": "stderr",
     "output_type": "stream",
     "text": [
      "2025-10-16 14:32:45,387 - INFO - HTTP Request: POST https://aoai-sweden-505.openai.azure.com/openai/deployments/gpt-4o/chat/completions?api-version=2024-02-15-preview \"HTTP/1.1 200 OK\"\n",
      "2025-10-16 14:32:45,481 - INFO - HTTP Request: POST https://aoai-sweden-505.openai.azure.com/openai/deployments/text-embedding-ada-002/embeddings?api-version=2024-12-01-preview \"HTTP/1.1 200 OK\"\n",
      "2025-10-16 14:32:46,305 - INFO - HTTP Request: POST https://aoai-sweden-505.openai.azure.com/openai/deployments/gpt-4o/chat/completions?api-version=2024-02-15-preview \"HTTP/1.1 200 OK\"\n",
      "2025-10-16 14:32:46,391 - INFO - HTTP Request: POST https://aoai-sweden-505.openai.azure.com/openai/deployments/text-embedding-ada-002/embeddings?api-version=2024-12-01-preview \"HTTP/1.1 200 OK\"\n"
     ]
    },
    {
     "name": "stdout",
     "output_type": "stream",
     "text": [
      "┌─ BASELINE RAG───────────────────────────────────────────────────────────────────────────────────┐\n",
      "│ Sources: kmeans_clustering, kmeans_clustering\n",
      "│ Avg Score: 0.7578\n",
      "│ Answer: You can group similar data points automatically using K-Means clustering. This algorithm partitions data into distinct clusters based on feature similarity. It involves selecting a number of clusters,...\n",
      "└───────────────────────────────────────────────────────────────────────────────────────────────────┘\n",
      "\n",
      "┌─ HYDE RAG───────────────────────────────────────────────────────────────────────────────────────┐\n",
      "│ Sources: kmeans_clustering, kmeans_clustering\n",
      "│ Avg Score: 0.7578\n",
      "│ Answer: You can group similar data points automatically using K-Means clustering. This algorithm partitions data into distinct clusters based on feature similarity, allowing you to identify groups within your...\n",
      "└───────────────────────────────────────────────────────────────────────────────────────────────────┘\n",
      "\n",
      "📊 Relevance Score Improvement: +0.0000\n",
      "📚 Source Overlap: 2 / 3\n",
      "\n",
      "====================================================================================================\n",
      "QUERY: What makes ensemble methods work better?\n",
      "====================================================================================================\n",
      "\n"
     ]
    },
    {
     "name": "stderr",
     "output_type": "stream",
     "text": [
      "2025-10-16 14:32:47,262 - INFO - HTTP Request: POST https://aoai-sweden-505.openai.azure.com/openai/deployments/gpt-4o/chat/completions?api-version=2024-02-15-preview \"HTTP/1.1 200 OK\"\n",
      "2025-10-16 14:32:47,366 - INFO - HTTP Request: POST https://aoai-sweden-505.openai.azure.com/openai/deployments/text-embedding-ada-002/embeddings?api-version=2024-12-01-preview \"HTTP/1.1 200 OK\"\n",
      "2025-10-16 14:32:49,879 - INFO - HTTP Request: POST https://aoai-sweden-505.openai.azure.com/openai/deployments/gpt-4o/chat/completions?api-version=2024-02-15-preview \"HTTP/1.1 200 OK\"\n"
     ]
    },
    {
     "name": "stdout",
     "output_type": "stream",
     "text": [
      "┌─ BASELINE RAG───────────────────────────────────────────────────────────────────────────────────┐\n",
      "│ Sources: gradient_boosting, kmeans_clustering\n",
      "│ Avg Score: 0.7314\n",
      "│ Answer: Ensemble methods work better because they combine multiple models to improve predictive performance. By aggregating the outputs of several weak learners, ensemble techniques can reduce errors and incr...\n",
      "└───────────────────────────────────────────────────────────────────────────────────────────────────┘\n",
      "\n",
      "┌─ HYDE RAG───────────────────────────────────────────────────────────────────────────────────────┐\n",
      "│ Sources: gradient_boosting, kmeans_clustering\n",
      "│ Avg Score: 0.7314\n",
      "│ Answer: Ensemble methods work better because they combine multiple models to improve predictive performance. By aggregating the outputs of several weak learners, ensemble techniques can reduce errors and incr...\n",
      "└───────────────────────────────────────────────────────────────────────────────────────────────────┘\n",
      "\n",
      "📊 Relevance Score Improvement: +0.0000\n",
      "📚 Source Overlap: 2 / 3\n"
     ]
    }
   ],
   "source": [
    "def compare_rag_systems(query_text):\n",
    "    \"\"\"Compare baseline and HyDE RAG systems for a given query.\"\"\"\n",
    "    \n",
    "    print(f\"\\n{'='*100}\")\n",
    "    print(f\"QUERY: {query_text}\")\n",
    "    print(f\"{'='*100}\\n\")\n",
    "    \n",
    "    # Baseline response\n",
    "    baseline_resp = baseline_query_engine.query(query_text)\n",
    "    baseline_sources = [Path(n.metadata.get('file_name', 'unknown')).stem \n",
    "                       for n in baseline_resp.source_nodes]\n",
    "    baseline_scores = [n.score for n in baseline_resp.source_nodes]\n",
    "    \n",
    "    # HyDE response\n",
    "    hyde_resp = hyde_query_engine.query(query_text)\n",
    "    hyde_sources = [Path(n.metadata.get('file_name', 'unknown')).stem \n",
    "                   for n in hyde_resp.source_nodes]\n",
    "    hyde_scores = [n.score for n in hyde_resp.source_nodes]\n",
    "    \n",
    "    # Display results\n",
    "    print(\"┌─ BASELINE RAG\" + \"─\" * 83 + \"┐\")\n",
    "    print(f\"│ Sources: {', '.join(baseline_sources[:2])}\")\n",
    "    print(f\"│ Avg Score: {sum(baseline_scores)/len(baseline_scores):.4f}\")\n",
    "    print(f\"│ Answer: {baseline_resp.response[:200]}...\")\n",
    "    print(\"└\" + \"─\" * 99 + \"┘\\n\")\n",
    "    \n",
    "    print(\"┌─ HYDE RAG\" + \"─\" * 87 + \"┐\")\n",
    "    print(f\"│ Sources: {', '.join(hyde_sources[:2])}\")\n",
    "    print(f\"│ Avg Score: {sum(hyde_scores)/len(hyde_scores):.4f}\")\n",
    "    print(f\"│ Answer: {hyde_resp.response[:200]}...\")\n",
    "    print(\"└\" + \"─\" * 99 + \"┘\\n\")\n",
    "    \n",
    "    # Highlight improvements\n",
    "    score_improvement = (sum(hyde_scores)/len(hyde_scores) - sum(baseline_scores)/len(baseline_scores))\n",
    "    print(f\"📊 Relevance Score Improvement: {score_improvement:+.4f}\")\n",
    "    print(f\"📚 Source Overlap: {len(set(baseline_sources) & set(hyde_sources))} / {len(baseline_sources)}\")\n",
    "    \n",
    "    return {\n",
    "        'baseline_score': sum(baseline_scores)/len(baseline_scores),\n",
    "        'hyde_score': sum(hyde_scores)/len(hyde_scores),\n",
    "        'improvement': score_improvement\n",
    "    }\n",
    "\n",
    "# Test all queries\n",
    "results = []\n",
    "for test_query in test_queries:\n",
    "    result = compare_rag_systems(test_query)\n",
    "    results.append(result)"
   ]
  },
  {
   "cell_type": "markdown",
   "id": "72dbb64b",
   "metadata": {},
   "source": [
    "## 7. Visualization and Analysis\n",
    "\n",
    "Let's visualize how HyDE improves retrieval quality."
   ]
  },
  {
   "cell_type": "code",
   "execution_count": 16,
   "id": "bc526b7a",
   "metadata": {},
   "outputs": [
    {
     "data": {
      "image/png": "[encoded data removed]",
      "text/plain": [
       "<Figure size 1400x500 with 2 Axes>"
      ]
     },
     "metadata": {},
     "output_type": "display_data"
    },
    {
     "name": "stdout",
     "output_type": "stream",
     "text": [
      "\n",
      "📈 Average Improvement Across All Queries: 0.00%\n"
     ]
    }
   ],
   "source": [
    "import matplotlib.pyplot as plt\n",
    "import numpy as np\n",
    "\n",
    "# Extract scores\n",
    "baseline_scores = [r['baseline_score'] for r in results]\n",
    "hyde_scores = [r['hyde_score'] for r in results]\n",
    "query_labels = [f\"Q{i+1}\" for i in range(len(test_queries))]\n",
    "\n",
    "# Create comparison plot\n",
    "fig, (ax1, ax2) = plt.subplots(1, 2, figsize=(14, 5))\n",
    "\n",
    "# Plot 1: Side-by-side comparison\n",
    "x = np.arange(len(query_labels))\n",
    "width = 0.35\n",
    "\n",
    "bars1 = ax1.bar(x - width/2, baseline_scores, width, label='Baseline RAG', alpha=0.8, color='#3498db')\n",
    "bars2 = ax1.bar(x + width/2, hyde_scores, width, label='HyDE RAG', alpha=0.8, color='#2ecc71')\n",
    "\n",
    "ax1.set_xlabel('Test Query', fontsize=12)\n",
    "ax1.set_ylabel('Average Relevance Score', fontsize=12)\n",
    "ax1.set_title('Retrieval Quality: Baseline vs HyDE', fontsize=14, fontweight='bold')\n",
    "ax1.set_xticks(x)\n",
    "ax1.set_xticklabels(query_labels)\n",
    "ax1.legend()\n",
    "ax1.grid(axis='y', alpha=0.3)\n",
    "\n",
    "# Plot 2: Improvement percentages\n",
    "improvements = [(h - b) / b * 100 for b, h in zip(baseline_scores, hyde_scores)]\n",
    "colors = ['#2ecc71' if imp > 0 else '#e74c3c' for imp in improvements]\n",
    "\n",
    "bars3 = ax2.bar(query_labels, improvements, color=colors, alpha=0.8)\n",
    "ax2.axhline(y=0, color='black', linestyle='-', linewidth=0.8)\n",
    "ax2.set_xlabel('Test Query', fontsize=12)\n",
    "ax2.set_ylabel('Improvement (%)', fontsize=12)\n",
    "ax2.set_title('HyDE Performance Improvement', fontsize=14, fontweight='bold')\n",
    "ax2.grid(axis='y', alpha=0.3)\n",
    "\n",
    "# Add value labels on bars\n",
    "for bar in bars3:\n",
    "    height = bar.get_height()\n",
    "    ax2.text(bar.get_x() + bar.get_width()/2., height,\n",
    "            f'{height:.1f}%',\n",
    "            ha='center', va='bottom' if height > 0 else 'top',\n",
    "            fontsize=10, fontweight='bold')\n",
    "\n",
    "plt.tight_layout()\n",
    "plt.savefig('hyde_comparison.png', dpi=150, bbox_inches='tight')\n",
    "plt.show()\n",
    "\n",
    "print(\"\\n📈 Average Improvement Across All Queries: {:.2f}%\".format(np.mean(improvements)))"
   ]
  },
  {
   "cell_type": "markdown",
   "id": "bbd7a54b",
   "metadata": {},
   "source": [
    "## 8. Understanding the Semantic Gap\n",
    "\n",
    "Let's demonstrate how the hypothetical document is semantically closer to source documents than the original query."
   ]
  },
  {
   "cell_type": "code",
   "execution_count": 17,
   "id": "5890fac2",
   "metadata": {},
   "outputs": [
    {
     "name": "stderr",
     "output_type": "stream",
     "text": [
      "2025-10-16 14:32:53,109 - INFO - HTTP Request: POST https://aoai-sweden-505.openai.azure.com/openai/deployments/gpt-4o/chat/completions?api-version=2024-02-15-preview \"HTTP/1.1 200 OK\"\n",
      "2025-10-16 14:32:53,438 - INFO - HTTP Request: POST https://aoai-sweden-505.openai.azure.com/openai/deployments/text-embedding-ada-002/embeddings?api-version=2024-12-01-preview \"HTTP/1.1 200 OK\"\n",
      "2025-10-16 14:32:53,546 - INFO - HTTP Request: POST https://aoai-sweden-505.openai.azure.com/openai/deployments/text-embedding-ada-002/embeddings?api-version=2024-12-01-preview \"HTTP/1.1 200 OK\"\n",
      "2025-10-16 14:32:53,640 - INFO - HTTP Request: POST https://aoai-sweden-505.openai.azure.com/openai/deployments/text-embedding-ada-002/embeddings?api-version=2024-12-01-preview \"HTTP/1.1 200 OK\"\n",
      "2025-10-16 14:32:54,968 - INFO - HTTP Request: POST https://aoai-sweden-505.openai.azure.com/openai/deployments/gpt-4o/chat/completions?api-version=2024-02-15-preview \"HTTP/1.1 200 OK\"\n",
      "2025-10-16 14:32:55,099 - INFO - HTTP Request: POST https://aoai-sweden-505.openai.azure.com/openai/deployments/text-embedding-ada-002/embeddings?api-version=2024-12-01-preview \"HTTP/1.1 200 OK\"\n"
     ]
    },
    {
     "name": "stdout",
     "output_type": "stream",
     "text": [
      "\n",
      "====================================================================================================\n",
      "SEMANTIC SIMILARITY ANALYSIS\n",
      "====================================================================================================\n",
      "\n",
      "🔍 Original Query:\n",
      "   Why do models memorize training data?\n",
      "\n",
      "📝 Hypothetical Document (excerpt):\n",
      "   Why do models memorize training data?...\n",
      "\n",
      "📄 Top Retrieved Chunk (excerpt):\n",
      "   # Neural Networks\n",
      "\n",
      "Neural Networks are computational models inspired by the human brain, consisting of interconnected nodes (neurons) organized in layers that process information through weighted connections.\n",
      "\n",
      "## Architecture\n",
      "\n",
      "A typical neural network consists of:\n",
      "\n",
      "### Input Layer\n",
      "Receives the raw i...\n",
      "\n",
      "----------------------------------------------------------------------------------------------------\n",
      "\n",
      "📊 Cosine Similarity Scores:\n",
      "   Query → Chunk:        0.7598\n",
      "   Hypothetical → Chunk: 0.7598\n",
      "\n",
      "✨ HyDE Improvement:    0.0000 (0.0%)\n",
      "\n",
      "====================================================================================================\n"
     ]
    }
   ],
   "source": [
    "from sklearn.metrics.pairwise import cosine_similarity\n",
    "\n",
    "# Select a test query\n",
    "demo_query = test_queries[0]\n",
    "\n",
    "# Generate hypothetical document\n",
    "query_bundle = QueryBundle(query_str=demo_query)\n",
    "transformed = hyde_transform.run(query_bundle)\n",
    "hypothetical_doc = transformed.query_str\n",
    "\n",
    "# Get embeddings\n",
    "query_embedding = embed_model.get_text_embedding(demo_query)\n",
    "hypo_embedding = embed_model.get_text_embedding(hypothetical_doc)\n",
    "\n",
    "# Get a relevant document chunk from the corpus\n",
    "baseline_resp = baseline_query_engine.query(demo_query)\n",
    "top_chunk = baseline_resp.source_nodes[0].text\n",
    "chunk_embedding = embed_model.get_text_embedding(top_chunk)\n",
    "\n",
    "# Calculate similarities\n",
    "query_to_chunk = cosine_similarity([query_embedding], [chunk_embedding])[0][0]\n",
    "hypo_to_chunk = cosine_similarity([hypo_embedding], [chunk_embedding])[0][0]\n",
    "\n",
    "print(\"\\n\" + \"=\"*100)\n",
    "print(\"SEMANTIC SIMILARITY ANALYSIS\")\n",
    "print(\"=\"*100)\n",
    "print(f\"\\n🔍 Original Query:\")\n",
    "print(f\"   {demo_query}\\n\")\n",
    "print(f\"📝 Hypothetical Document (excerpt):\")\n",
    "print(f\"   {hypothetical_doc[:300]}...\\n\")\n",
    "print(f\"📄 Top Retrieved Chunk (excerpt):\")\n",
    "print(f\"   {top_chunk[:300]}...\\n\")\n",
    "print(\"-\"*100)\n",
    "print(f\"\\n📊 Cosine Similarity Scores:\")\n",
    "print(f\"   Query → Chunk:        {query_to_chunk:.4f}\")\n",
    "print(f\"   Hypothetical → Chunk: {hypo_to_chunk:.4f}\")\n",
    "print(f\"\\n✨ HyDE Improvement:    {(hypo_to_chunk - query_to_chunk):.4f} ({((hypo_to_chunk - query_to_chunk) / query_to_chunk * 100):.1f}%)\")\n",
    "print(\"\\n\" + \"=\"*100)"
   ]
  },
  {
   "cell_type": "markdown",
   "id": "213b76b4",
   "metadata": {},
   "source": [
    "## Key Takeaways\n",
    "\n",
    "### What We Learned\n",
    "\n",
    "1. **The Semantic Gap is Real**: User queries often use different vocabulary and structure than source documents, leading to suboptimal retrieval.\n",
    "\n",
    "2. **HyDE Bridges the Gap**: By generating a hypothetical answer that matches the structure and terminology of source documents, we significantly improve retrieval relevance.\n",
    "\n",
    "3. **Pre-Retrieval Optimization Matters**: Transforming queries before retrieval is a powerful technique that doesn't require changing the underlying data or index.\n",
    "\n",
    "4. **Trade-offs**: HyDE adds one additional LLM call per query, slightly increasing latency and cost. However, the improvement in retrieval quality often justifies this overhead.\n",
    "\n",
    "### When to Use HyDE\n",
    "\n",
    "✅ **Good for:**\n",
    "- Technical documentation with specific terminology\n",
    "- Domain-specific knowledge bases\n",
    "- Queries likely to use different vocabulary than documents\n",
    "- Situations where retrieval quality is critical\n",
    "\n",
    "❌ **Less effective for:**\n",
    "- Simple keyword-based searches\n",
    "- Queries that already use document terminology\n",
    "- Real-time applications with strict latency requirements\n",
    "- Very large-scale systems where the extra LLM call is costly\n",
    "\n",
    "### Next Steps\n",
    "\n",
    "In the next demo, we'll explore **Multi-Query Decomposition (RAG-Fusion)**, another powerful pre-retrieval technique that generates multiple query variations to increase recall and diversity."
   ]
  }
 ],
 "metadata": {
  "kernelspec": {
   "display_name": "rag-workshop",
   "language": "python",
   "name": "python3"
  },
  "language_info": {
   "codemirror_mode": {
    "name": "ipython",
    "version": 3
   },
   "file_extension": ".py",
   "mimetype": "text/x-python",
   "name": "python",
   "nbconvert_exporter": "python",
   "pygments_lexer": "ipython3",
   "version": "3.13.3"
  }
 },
 "nbformat": 4,
 "nbformat_minor": 5
}
