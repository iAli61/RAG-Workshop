{
 "cells": [
  {
   "cell_type": "markdown",
   "id": "e022a173",
   "metadata": {},
   "source": [
    "# Demo #2: Multi-Query Decomposition (RAG-Fusion)\n",
    "\n",
    "## Learning Objectives\n",
    "\n",
    "In this demonstration, you will learn:\n",
    "\n",
    "1. **Query Expansion**: How generating multiple query variations increases retrieval coverage\n",
    "2. **RAG-Fusion**: The technique of retrieving from multiple query perspectives and fusing results\n",
    "3. **Reciprocal Rank Fusion (RRF)**: An elegant algorithm for combining ranked lists without score normalization\n",
    "4. **Recall vs. Precision**: Understanding the trade-off and how multi-query addresses it\n",
    "\n",
    "## Theoretical Background\n",
    "\n",
    "### The Problem: Single-Query Limitations\n",
    "\n",
    "A single query, no matter how well-crafted, represents only one perspective on the information need. This creates two problems:\n",
    "\n",
    "1. **Limited Recall**: Relevant documents that use different terminology may be missed\n",
    "2. **Ambiguity**: The query may have multiple interpretations that should all be explored\n",
    "\n",
    "### The Solution: Multi-Query Retrieval (RAG-Fusion)\n",
    "\n",
    "RAG-Fusion addresses this by:\n",
    "\n",
    "1. **Generating Multiple Query Variations**: Using an LLM to create 3-5 different ways to express the same information need\n",
    "2. **Parallel Retrieval**: Executing each query variation independently against the vector store\n",
    "3. **Result Fusion**: Combining all retrieved documents using Reciprocal Rank Fusion\n",
    "4. **Re-ranking**: Producing a final, deduplicated ranking based on how often documents appear across different queries\n",
    "\n",
    "### Reciprocal Rank Fusion (RRF)\n",
    "\n",
    "RRF is a simple yet powerful algorithm for combining ranked lists:\n",
    "\n",
    "```\n",
    "RRF_score(document) = Σ [1 / (k + rank_in_query_i)]\n",
    "```\n",
    "\n",
    "Where:\n",
    "- `k` is a constant (typically 60) to prevent division by zero and reduce the weight of higher ranks\n",
    "- `rank_in_query_i` is the document's rank in the i-th query's results\n",
    "- The sum is over all queries where the document appears\n",
    "\n",
    "**Key Insight**: Documents that appear in the top results of multiple query variations get higher scores, indicating they are relevant from multiple perspectives.\n",
    "\n",
    "**Key Citations**:\n",
    "- Query Transformations - LangChain Blog (Reference 32)\n",
    "- RAG techniques: From naive to advanced - Weights & Biases (Reference 20)"
   ]
  },
  {
   "cell_type": "markdown",
   "id": "7b44f0a3",
   "metadata": {},
   "source": [
    "## 1. Environment Setup"
   ]
  },
  {
   "cell_type": "code",
   "execution_count": 1,
   "id": "8783c34b",
   "metadata": {},
   "outputs": [
    {
     "name": "stdout",
     "output_type": "stream",
     "text": [
      "✓ All imports successful\n"
     ]
    }
   ],
   "source": [
    "# Core imports\n",
    "import os\n",
    "from pathlib import Path\n",
    "from typing import List, Dict, Tuple\n",
    "from collections import defaultdict\n",
    "import warnings\n",
    "warnings.filterwarnings('ignore')\n",
    "\n",
    "# LlamaIndex core components\n",
    "from llama_index.core import (\n",
    "    SimpleDirectoryReader,\n",
    "    VectorStoreIndex,\n",
    "    Settings,\n",
    "    QueryBundle\n",
    ")\n",
    "from llama_index.core.schema import NodeWithScore\n",
    "from llama_index.core.response_synthesizers import get_response_synthesizer\n",
    "\n",
    "# Azure OpenAI components\n",
    "from llama_index.llms.azure_openai import AzureOpenAI\n",
    "from llama_index.embeddings.azure_openai import AzureOpenAIEmbedding\n",
    "\n",
    "# Utilities\n",
    "from dotenv import load_dotenv\n",
    "import warnings\n",
    "warnings.filterwarnings('ignore')\n",
    "\n",
    "load_dotenv()\n",
    "\n",
    "print(\"✓ All imports successful\")"
   ]
  },
  {
   "cell_type": "code",
   "execution_count": 2,
   "id": "465d6c48",
   "metadata": {},
   "outputs": [
    {
     "name": "stdout",
     "output_type": "stream",
     "text": [
      "✓ Azure OpenAI configured successfully\n"
     ]
    }
   ],
   "source": [
    "# Azure OpenAI Configuration\n",
    "llm = AzureOpenAI(\n",
    "    model=\"gpt-4\",\n",
    "    deployment_name=os.getenv(\"AZURE_OPENAI_DEPLOYMENT_NAME\", \"gpt-4\"),\n",
    "    api_key=os.getenv(\"AZURE_OPENAI_API_KEY\"),\n",
    "    azure_endpoint=os.getenv(\"AZURE_OPENAI_ENDPOINT\"),\n",
    "    api_version=\"2024-02-15-preview\",\n",
    "    temperature=0.7  # Higher temperature for diverse query generation\n",
    ")\n",
    "\n",
    "embed_model = AzureOpenAIEmbedding(\n",
    "    model=\"text-embedding-ada-002\",\n",
    "    deployment_name=os.getenv(\"AZURE_OPENAI_EMBEDDING_DEPLOYMENT\", \"text-embedding-ada-002\"),\n",
    "    api_key=os.getenv(\"AZURE_OPENAI_API_KEY\"),\n",
    "    azure_endpoint=os.getenv(\"AZURE_OPENAI_ENDPOINT\"),\n",
    "    api_version=\"2024-02-15-preview\"\n",
    ")\n",
    "\n",
    "# Set global settings\n",
    "Settings.llm = llm\n",
    "Settings.embed_model = embed_model\n",
    "Settings.chunk_size = 512\n",
    "Settings.chunk_overlap = 50\n",
    "\n",
    "print(\"✓ Azure OpenAI configured successfully\")"
   ]
  },
  {
   "cell_type": "markdown",
   "id": "eb8c45a7",
   "metadata": {},
   "source": [
    "## 2. Data Preparation"
   ]
  },
  {
   "cell_type": "code",
   "execution_count": 3,
   "id": "4ff13074",
   "metadata": {},
   "outputs": [
    {
     "name": "stdout",
     "output_type": "stream",
     "text": [
      "✓ Loaded 4 documents:\n",
      "  1. gradient_boosting.md (233 words)\n",
      "  2. kmeans_clustering.md (417 words)\n",
      "  3. neural_networks.md (274 words)\n",
      "  4. random_forests.md (368 words)\n"
     ]
    }
   ],
   "source": [
    "# Load documents\n",
    "data_path = Path(\"./data/ml_concepts\")\n",
    "documents = SimpleDirectoryReader(\n",
    "    input_dir=str(data_path),\n",
    "    required_exts=[\".md\"],\n",
    "    recursive=False\n",
    ").load_data()\n",
    "\n",
    "# Use first 3-4 documents\n",
    "documents = documents[:4]\n",
    "\n",
    "print(f\"✓ Loaded {len(documents)} documents:\")\n",
    "for i, doc in enumerate(documents, 1):\n",
    "    filename = Path(doc.metadata.get('file_name', 'unknown')).name\n",
    "    word_count = len(doc.text.split())\n",
    "    print(f\"  {i}. {filename} ({word_count} words)\")"
   ]
  },
  {
   "cell_type": "markdown",
   "id": "a3cd9520",
   "metadata": {},
   "source": [
    "## 3. Build Vector Index"
   ]
  },
  {
   "cell_type": "code",
   "execution_count": 4,
   "id": "f11dbfa3",
   "metadata": {},
   "outputs": [
    {
     "name": "stdout",
     "output_type": "stream",
     "text": [
      "Building vector index...\n"
     ]
    },
    {
     "data": {
      "application/vnd.jupyter.widget-view+json": {
       "model_id": "fac0a8d3820c405ba54ae35166607714",
       "version_major": 2,
       "version_minor": 0
      },
      "text/plain": [
       "Parsing nodes:   0%|          | 0/4 [00:00<?, ?it/s]"
      ]
     },
     "metadata": {},
     "output_type": "display_data"
    },
    {
     "data": {
      "application/vnd.jupyter.widget-view+json": {
       "model_id": "df9f09af937647689c2577401ffbd1ac",
       "version_major": 2,
       "version_minor": 0
      },
      "text/plain": [
       "Generating embeddings:   0%|          | 0/6 [00:00<?, ?it/s]"
      ]
     },
     "metadata": {},
     "output_type": "display_data"
    },
    {
     "name": "stderr",
     "output_type": "stream",
     "text": [
      "2025-10-16 14:34:18,828 - INFO - HTTP Request: POST https://aoai-sweden-505.openai.azure.com/openai/deployments/text-embedding-ada-002/embeddings?api-version=2024-02-15-preview \"HTTP/1.1 200 OK\"\n"
     ]
    },
    {
     "name": "stdout",
     "output_type": "stream",
     "text": [
      "✓ Index and retriever ready\n"
     ]
    }
   ],
   "source": [
    "# Create vector store index\n",
    "print(\"Building vector index...\")\n",
    "index = VectorStoreIndex.from_documents(\n",
    "    documents,\n",
    "    show_progress=True\n",
    ")\n",
    "\n",
    "# Create retriever with higher top-k for better recall\n",
    "retriever = index.as_retriever(similarity_top_k=5)\n",
    "\n",
    "print(\"✓ Index and retriever ready\")"
   ]
  },
  {
   "cell_type": "markdown",
   "id": "452825a9",
   "metadata": {},
   "source": [
    "## 4. Multi-Query Generator\n",
    "\n",
    "First, let's implement a function to generate multiple query variations using the LLM."
   ]
  },
  {
   "cell_type": "code",
   "execution_count": 5,
   "id": "394e67a7",
   "metadata": {},
   "outputs": [
    {
     "name": "stdout",
     "output_type": "stream",
     "text": [
      "✓ Multi-query generator function defined\n"
     ]
    }
   ],
   "source": [
    "def generate_multiple_queries(original_query: str, num_queries: int = 3) -> List[str]:\n",
    "    \"\"\"\n",
    "    Generate multiple variations of a query to increase retrieval coverage.\n",
    "    \n",
    "    Args:\n",
    "        original_query: The user's original question\n",
    "        num_queries: Number of query variations to generate\n",
    "    \n",
    "    Returns:\n",
    "        List of query variations (including the original)\n",
    "    \"\"\"\n",
    "    \n",
    "    prompt = f\"\"\"You are an AI assistant helping to improve document retrieval.\n",
    "    \n",
    "Given the following question, generate {num_queries} alternative ways to ask the same question.\n",
    "Each alternative should:\n",
    "- Express the same information need from a different perspective\n",
    "- Use different terminology or phrasing\n",
    "- Be specific and clear\n",
    "\n",
    "Original question: {original_query}\n",
    "\n",
    "Generate exactly {num_queries} alternative questions, one per line, without numbering or bullets:\"\"\"\n",
    "    \n",
    "    response = llm.complete(prompt)\n",
    "    \n",
    "    # Parse the response to extract queries\n",
    "    generated_queries = [\n",
    "        q.strip() \n",
    "        for q in response.text.strip().split('\\n') \n",
    "        if q.strip() and not q.strip().startswith(('1.', '2.', '3.', '-', '*'))\n",
    "    ]\n",
    "    \n",
    "    # Clean up any remaining numbering\n",
    "    generated_queries = [\n",
    "        q.lstrip('123456789.-*) ').strip() \n",
    "        for q in generated_queries\n",
    "    ][:num_queries]\n",
    "    \n",
    "    # Ensure we include the original query\n",
    "    all_queries = [original_query] + generated_queries\n",
    "    \n",
    "    return all_queries\n",
    "\n",
    "print(\"✓ Multi-query generator function defined\")"
   ]
  },
  {
   "cell_type": "markdown",
   "id": "c219ed3d",
   "metadata": {},
   "source": [
    "## 5. Reciprocal Rank Fusion (RRF) Implementation"
   ]
  },
  {
   "cell_type": "code",
   "execution_count": 6,
   "id": "8f365377",
   "metadata": {},
   "outputs": [
    {
     "name": "stdout",
     "output_type": "stream",
     "text": [
      "✓ RRF function defined\n"
     ]
    }
   ],
   "source": [
    "def reciprocal_rank_fusion(\n",
    "    results_per_query: List[List[NodeWithScore]], \n",
    "    k: int = 60\n",
    ") -> List[NodeWithScore]:\n",
    "    \"\"\"\n",
    "    Implement Reciprocal Rank Fusion to combine results from multiple queries.\n",
    "    \n",
    "    Args:\n",
    "        results_per_query: List of retrieval results, one list per query\n",
    "        k: Constant for RRF formula (default 60)\n",
    "    \n",
    "    Returns:\n",
    "        Fused and re-ranked list of nodes\n",
    "    \"\"\"\n",
    "    \n",
    "    # Dictionary to store RRF scores: node_id -> (node, score)\n",
    "    rrf_scores = defaultdict(lambda: {'node': None, 'score': 0.0, 'appearances': 0})\n",
    "    \n",
    "    # Calculate RRF scores\n",
    "    for query_results in results_per_query:\n",
    "        for rank, node_with_score in enumerate(query_results, start=1):\n",
    "            node_id = node_with_score.node.node_id\n",
    "            \n",
    "            # RRF formula: 1 / (k + rank)\n",
    "            rrf_score = 1.0 / (k + rank)\n",
    "            \n",
    "            # Accumulate score\n",
    "            rrf_scores[node_id]['score'] += rrf_score\n",
    "            rrf_scores[node_id]['appearances'] += 1\n",
    "            \n",
    "            # Store the node (we only need one copy)\n",
    "            if rrf_scores[node_id]['node'] is None:\n",
    "                rrf_scores[node_id]['node'] = node_with_score.node\n",
    "    \n",
    "    # Convert to list and sort by RRF score\n",
    "    fused_results = [\n",
    "        NodeWithScore(node=data['node'], score=data['score'])\n",
    "        for node_id, data in rrf_scores.items()\n",
    "    ]\n",
    "    \n",
    "    fused_results.sort(key=lambda x: x.score, reverse=True)\n",
    "    \n",
    "    return fused_results\n",
    "\n",
    "print(\"✓ RRF function defined\")"
   ]
  },
  {
   "cell_type": "markdown",
   "id": "f25978ad",
   "metadata": {},
   "source": [
    "## 6. RAG-Fusion Query Engine\n",
    "\n",
    "Now let's create a complete RAG-Fusion pipeline that:\n",
    "1. Generates multiple query variations\n",
    "2. Retrieves documents for each variation\n",
    "3. Applies RRF to fuse results\n",
    "4. Generates a final answer"
   ]
  },
  {
   "cell_type": "code",
   "execution_count": 7,
   "id": "99eff91e",
   "metadata": {},
   "outputs": [
    {
     "name": "stdout",
     "output_type": "stream",
     "text": [
      "✓ RAG-Fusion query engine defined\n"
     ]
    }
   ],
   "source": [
    "def rag_fusion_query(\n",
    "    query: str, \n",
    "    retriever, \n",
    "    num_queries: int = 3,\n",
    "    top_k_final: int = 5,\n",
    "    verbose: bool = False\n",
    ") -> Tuple[str, List[NodeWithScore], List[str]]:\n",
    "    \"\"\"\n",
    "    Execute RAG-Fusion: multi-query retrieval with RRF fusion.\n",
    "    \n",
    "    Returns:\n",
    "        (final_answer, fused_nodes, generated_queries)\n",
    "    \"\"\"\n",
    "    \n",
    "    # Step 1: Generate multiple query variations\n",
    "    if verbose:\n",
    "        print(\"\\n\" + \"=\"*80)\n",
    "        print(\"STEP 1: Generating Query Variations\")\n",
    "        print(\"=\"*80)\n",
    "    \n",
    "    queries = generate_multiple_queries(query, num_queries=num_queries)\n",
    "    \n",
    "    if verbose:\n",
    "        print(f\"\\nOriginal Query: {queries[0]}\")\n",
    "        print(f\"\\nGenerated Variations:\")\n",
    "        for i, q in enumerate(queries[1:], 1):\n",
    "            print(f\"  {i}. {q}\")\n",
    "    \n",
    "    # Step 2: Parallel retrieval for each query\n",
    "    if verbose:\n",
    "        print(\"\\n\" + \"=\"*80)\n",
    "        print(\"STEP 2: Parallel Retrieval\")\n",
    "        print(\"=\"*80)\n",
    "    \n",
    "    results_per_query = []\n",
    "    for i, q in enumerate(queries):\n",
    "        query_bundle = QueryBundle(query_str=q)\n",
    "        results = retriever.retrieve(query_bundle)\n",
    "        results_per_query.append(results)\n",
    "        \n",
    "        if verbose:\n",
    "            print(f\"\\nQuery {i+1} retrieved {len(results)} nodes\")\n",
    "            print(f\"  Top node: {Path(results[0].node.metadata.get('file_name', 'unknown')).stem}\")\n",
    "            print(f\"  Score: {results[0].score:.4f}\")\n",
    "    \n",
    "    # Step 3: Apply RRF fusion\n",
    "    if verbose:\n",
    "        print(\"\\n\" + \"=\"*80)\n",
    "        print(\"STEP 3: Reciprocal Rank Fusion\")\n",
    "        print(\"=\"*80)\n",
    "    \n",
    "    fused_results = reciprocal_rank_fusion(results_per_query)\n",
    "    final_nodes = fused_results[:top_k_final]\n",
    "    \n",
    "    if verbose:\n",
    "        print(f\"\\nFused to {len(final_nodes)} unique nodes:\")\n",
    "        for i, node in enumerate(final_nodes, 1):\n",
    "            source = Path(node.node.metadata.get('file_name', 'unknown')).stem\n",
    "            print(f\"  {i}. {source} (RRF Score: {node.score:.4f})\")\n",
    "    \n",
    "    # Step 4: Generate final answer\n",
    "    if verbose:\n",
    "        print(\"\\n\" + \"=\"*80)\n",
    "        print(\"STEP 4: Generate Final Answer\")\n",
    "        print(\"=\"*80)\n",
    "    \n",
    "    # Synthesize response using the fused context\n",
    "    response_synthesizer = get_response_synthesizer(response_mode=\"compact\")\n",
    "    query_bundle = QueryBundle(query_str=query)\n",
    "    response = response_synthesizer.synthesize(query_bundle, nodes=final_nodes)\n",
    "    \n",
    "    return response.response, final_nodes, queries\n",
    "\n",
    "print(\"✓ RAG-Fusion query engine defined\")"
   ]
  },
  {
   "cell_type": "markdown",
   "id": "33155c3f",
   "metadata": {},
   "source": [
    "## 7. Baseline vs RAG-Fusion Comparison\n",
    "\n",
    "Let's compare single-query retrieval with RAG-Fusion."
   ]
  },
  {
   "cell_type": "code",
   "execution_count": 8,
   "id": "819dd7a8",
   "metadata": {},
   "outputs": [
    {
     "name": "stdout",
     "output_type": "stream",
     "text": [
      "\n",
      "####################################################################################################\n",
      "# TEST QUERY: How can ensemble methods improve prediction accuracy?\n",
      "####################################################################################################\n"
     ]
    }
   ],
   "source": [
    "# Test query\n",
    "test_query = \"How can ensemble methods improve prediction accuracy?\"\n",
    "\n",
    "print(\"\\n\" + \"#\" * 100)\n",
    "print(f\"# TEST QUERY: {test_query}\")\n",
    "print(\"#\" * 100)"
   ]
  },
  {
   "cell_type": "markdown",
   "id": "622fb74a",
   "metadata": {},
   "source": [
    "### 7.1 Baseline: Single Query Retrieval"
   ]
  },
  {
   "cell_type": "code",
   "execution_count": 9,
   "id": "b76ae923",
   "metadata": {},
   "outputs": [
    {
     "name": "stderr",
     "output_type": "stream",
     "text": [
      "2025-10-16 14:34:19,447 - INFO - HTTP Request: POST https://aoai-sweden-505.openai.azure.com/openai/deployments/text-embedding-ada-002/embeddings?api-version=2024-02-15-preview \"HTTP/1.1 200 OK\"\n"
     ]
    },
    {
     "name": "stdout",
     "output_type": "stream",
     "text": [
      "\n",
      "====================================================================================================\n",
      "BASELINE: Single Query Retrieval\n",
      "====================================================================================================\n"
     ]
    },
    {
     "name": "stderr",
     "output_type": "stream",
     "text": [
      "2025-10-16 14:34:20,878 - INFO - HTTP Request: POST https://aoai-sweden-505.openai.azure.com/openai/deployments/gpt-4o/chat/completions?api-version=2024-02-15-preview \"HTTP/1.1 200 OK\"\n"
     ]
    },
    {
     "name": "stdout",
     "output_type": "stream",
     "text": [
      "\n",
      "📄 Retrieved Nodes:\n",
      "  1. random_forests (Score: 0.8008)\n",
      "     Choose the best split from these features\n",
      "5. Grow the tree to maximum depth (no pruning)\n",
      "6. Repeat steps 1-5 for N trees\n",
      "7. Aggregate predictions by v...\n",
      "\n",
      "  2. gradient_boosting (Score: 0.7881)\n",
      "     # Gradient Boosting\n",
      "\n",
      "Gradient Boosting is an ensemble machine learning technique that builds a strong predictive model by combining multiple weak lear...\n",
      "\n",
      "  3. random_forests (Score: 0.7863)\n",
      "     # Random Forests\n",
      "\n",
      "Random Forest is an ensemble learning method that constructs multiple decision trees during training and outputs the mode (classific...\n",
      "\n",
      "  4. kmeans_clustering (Score: 0.7294)\n",
      "     # K-Means Clustering\n",
      "\n",
      "K-Means is an unsupervised learning algorithm that partitions data into K distinct, non-overlapping clusters based on feature si...\n",
      "\n",
      "  5. neural_networks (Score: 0.7231)\n",
      "     # Neural Networks\n",
      "\n",
      "Neural Networks are computational models inspired by the human brain, consisting of interconnected nodes (neurons) organized in lay...\n",
      "\n",
      "💬 Generated Answer:\n",
      "  Ensemble methods improve prediction accuracy by combining multiple models to create a stronger overall model. By aggregating the predictions from various models, they reduce variance and increase robustness, leading to more accurate and stable predictions. Techniques like bagging and boosting use different approaches to achieve this: bagging works by training individual models on different subsets of data, while boosting sequentially corrects errors made by previous models. As a result, ensemble methods can enhance performance on diverse datasets and provide a more reliable prediction framework.\n",
      "\n"
     ]
    }
   ],
   "source": [
    "print(\"\\n\" + \"=\" * 100)\n",
    "print(\"BASELINE: Single Query Retrieval\")\n",
    "print(\"=\" * 100)\n",
    "\n",
    "# Single query retrieval\n",
    "baseline_query_engine = index.as_query_engine(similarity_top_k=5)\n",
    "baseline_response = baseline_query_engine.query(test_query)\n",
    "\n",
    "print(\"\\n📄 Retrieved Nodes:\")\n",
    "for i, node in enumerate(baseline_response.source_nodes, 1):\n",
    "    source = Path(node.metadata.get('file_name', 'unknown')).stem\n",
    "    print(f\"  {i}. {source} (Score: {node.score:.4f})\")\n",
    "    print(f\"     {node.text[:150]}...\\n\")\n",
    "\n",
    "print(\"💬 Generated Answer:\")\n",
    "print(f\"  {baseline_response.response}\")\n",
    "print()"
   ]
  },
  {
   "cell_type": "markdown",
   "id": "09b52a75",
   "metadata": {},
   "source": [
    "### 7.2 RAG-Fusion: Multi-Query with RRF"
   ]
  },
  {
   "cell_type": "code",
   "execution_count": 10,
   "id": "d84335dc",
   "metadata": {},
   "outputs": [
    {
     "name": "stdout",
     "output_type": "stream",
     "text": [
      "\n",
      "================================================================================\n",
      "STEP 1: Generating Query Variations\n",
      "================================================================================\n"
     ]
    },
    {
     "name": "stderr",
     "output_type": "stream",
     "text": [
      "2025-10-16 14:34:21,892 - INFO - HTTP Request: POST https://aoai-sweden-505.openai.azure.com/openai/deployments/gpt-4o/chat/completions?api-version=2024-02-15-preview \"HTTP/1.1 200 OK\"\n",
      "2025-10-16 14:34:22,093 - INFO - HTTP Request: POST https://aoai-sweden-505.openai.azure.com/openai/deployments/text-embedding-ada-002/embeddings?api-version=2024-02-15-preview \"HTTP/1.1 200 OK\"\n"
     ]
    },
    {
     "name": "stdout",
     "output_type": "stream",
     "text": [
      "\n",
      "Original Query: How can ensemble methods improve prediction accuracy?\n",
      "\n",
      "Generated Variations:\n",
      "  1. In what ways do ensemble techniques enhance the precision of predictive models?\n",
      "  2. What role do ensemble strategies play in boosting the accuracy of forecasting algorithms?\n",
      "  3. How do ensemble approaches contribute to more accurate predictions in data analysis?\n",
      "\n",
      "================================================================================\n",
      "STEP 2: Parallel Retrieval\n",
      "================================================================================\n"
     ]
    },
    {
     "name": "stderr",
     "output_type": "stream",
     "text": [
      "2025-10-16 14:34:22,191 - INFO - HTTP Request: POST https://aoai-sweden-505.openai.azure.com/openai/deployments/text-embedding-ada-002/embeddings?api-version=2024-02-15-preview \"HTTP/1.1 200 OK\"\n",
      "2025-10-16 14:34:22,286 - INFO - HTTP Request: POST https://aoai-sweden-505.openai.azure.com/openai/deployments/text-embedding-ada-002/embeddings?api-version=2024-02-15-preview \"HTTP/1.1 200 OK\"\n"
     ]
    },
    {
     "name": "stdout",
     "output_type": "stream",
     "text": [
      "\n",
      "Query 1 retrieved 5 nodes\n",
      "  Top node: random_forests\n",
      "  Score: 0.8009\n",
      "\n",
      "Query 2 retrieved 5 nodes\n",
      "  Top node: gradient_boosting\n",
      "  Score: 0.7917\n",
      "\n",
      "Query 3 retrieved 5 nodes\n",
      "  Top node: random_forests\n",
      "  Score: 0.7904\n"
     ]
    },
    {
     "name": "stderr",
     "output_type": "stream",
     "text": [
      "2025-10-16 14:34:22,376 - INFO - HTTP Request: POST https://aoai-sweden-505.openai.azure.com/openai/deployments/text-embedding-ada-002/embeddings?api-version=2024-02-15-preview \"HTTP/1.1 200 OK\"\n"
     ]
    },
    {
     "name": "stdout",
     "output_type": "stream",
     "text": [
      "\n",
      "Query 4 retrieved 5 nodes\n",
      "  Top node: random_forests\n",
      "  Score: 0.7947\n",
      "\n",
      "================================================================================\n",
      "STEP 3: Reciprocal Rank Fusion\n",
      "================================================================================\n",
      "\n",
      "Fused to 5 unique nodes:\n",
      "  1. random_forests (RRF Score: 0.0653)\n",
      "  2. gradient_boosting (RRF Score: 0.0648)\n",
      "  3. random_forests (RRF Score: 0.0635)\n",
      "  4. kmeans_clustering (RRF Score: 0.0625)\n",
      "  5. neural_networks (RRF Score: 0.0615)\n",
      "\n",
      "================================================================================\n",
      "STEP 4: Generate Final Answer\n",
      "================================================================================\n"
     ]
    },
    {
     "name": "stderr",
     "output_type": "stream",
     "text": [
      "2025-10-16 14:34:23,541 - INFO - HTTP Request: POST https://aoai-sweden-505.openai.azure.com/openai/deployments/gpt-4o/chat/completions?api-version=2024-02-15-preview \"HTTP/1.1 200 OK\"\n"
     ]
    },
    {
     "name": "stdout",
     "output_type": "stream",
     "text": [
      "\n",
      "💬 Final Answer:\n",
      "  Ensemble methods improve prediction accuracy by combining multiple models to leverage their collective strengths. Techniques like Random Forests and Gradient Boosting use multiple decision trees to reduce errors and improve robustness. Random Forests enhance accuracy through averaging predictions, which reduces variance without increasing bias, while Gradient Boosting sequentially corrects errors by focusing on residuals, optimizing predictive performance. Both methods provide a strong, reliable model that is generally more accurate than individual models.\n",
      "\n"
     ]
    }
   ],
   "source": [
    "# RAG-Fusion with verbose output\n",
    "fusion_answer, fusion_nodes, fusion_queries = rag_fusion_query(\n",
    "    query=test_query,\n",
    "    retriever=retriever,\n",
    "    num_queries=3,\n",
    "    top_k_final=5,\n",
    "    verbose=True\n",
    ")\n",
    "\n",
    "print(\"\\n💬 Final Answer:\")\n",
    "print(f\"  {fusion_answer}\")\n",
    "print()"
   ]
  },
  {
   "cell_type": "markdown",
   "id": "4245e7c6",
   "metadata": {},
   "source": [
    "## 8. Detailed Analysis\n",
    "\n",
    "Let's analyze the differences in retrieval quality."
   ]
  },
  {
   "cell_type": "code",
   "execution_count": 11,
   "id": "df4aba19",
   "metadata": {},
   "outputs": [
    {
     "name": "stdout",
     "output_type": "stream",
     "text": [
      "\n",
      "====================================================================================================\n",
      "RETRIEVAL COMPARISON ANALYSIS\n",
      "====================================================================================================\n",
      "\n",
      "📊 Diversity Metrics:\n",
      "  Baseline unique sources: 4/5\n",
      "  Fusion unique sources:   4/5\n",
      "\n",
      "🔄 Source Overlap:\n",
      "  Common sources: 4 - gradient_boosting, random_forests, kmeans_clustering, neural_networks\n",
      "\n",
      "📋 Side-by-Side Ranking Comparison:\n",
      "----------------------------------------------------------------------------------------------------\n",
      " Rank   Baseline Source Baseline Score     Fusion Source RRF Score\n",
      "    1    random_forests         0.8008    random_forests    0.0653\n",
      "    2 gradient_boosting         0.7881 gradient_boosting    0.0648\n",
      "    3    random_forests         0.7863    random_forests    0.0635\n",
      "    4 kmeans_clustering         0.7294 kmeans_clustering    0.0625\n",
      "    5   neural_networks         0.7231   neural_networks    0.0615\n",
      "\n",
      "🔍 Query Variations Used in Fusion:\n",
      "----------------------------------------------------------------------------------------------------\n",
      "  1. How can ensemble methods improve prediction accuracy?\n",
      "  2. In what ways do ensemble techniques enhance the precision of predictive models?\n",
      "  3. What role do ensemble strategies play in boosting the accuracy of forecasting algorithms?\n",
      "  4. How do ensemble approaches contribute to more accurate predictions in data analysis?\n"
     ]
    }
   ],
   "source": [
    "import pandas as pd\n",
    "\n",
    "def compare_retrieval_results(baseline_nodes, fusion_nodes, fusion_queries):\n",
    "    \"\"\"Create a detailed comparison of baseline vs fusion retrieval.\"\"\"\n",
    "    \n",
    "    print(\"\\n\" + \"=\"*100)\n",
    "    print(\"RETRIEVAL COMPARISON ANALYSIS\")\n",
    "    print(\"=\"*100)\n",
    "    \n",
    "    # Extract sources\n",
    "    baseline_sources = [Path(n.metadata.get('file_name', 'unknown')).stem for n in baseline_nodes]\n",
    "    fusion_sources = [Path(n.node.metadata.get('file_name', 'unknown')).stem for n in fusion_nodes]\n",
    "    \n",
    "    # Calculate diversity metrics\n",
    "    baseline_unique = len(set(baseline_sources))\n",
    "    fusion_unique = len(set(fusion_sources))\n",
    "    \n",
    "    print(f\"\\n📊 Diversity Metrics:\")\n",
    "    print(f\"  Baseline unique sources: {baseline_unique}/{len(baseline_sources)}\")\n",
    "    print(f\"  Fusion unique sources:   {fusion_unique}/{len(fusion_sources)}\")\n",
    "    \n",
    "    # Source overlap\n",
    "    overlap = set(baseline_sources) & set(fusion_sources)\n",
    "    fusion_only = set(fusion_sources) - set(baseline_sources)\n",
    "    \n",
    "    print(f\"\\n🔄 Source Overlap:\")\n",
    "    print(f\"  Common sources: {len(overlap)} - {', '.join(overlap)}\")\n",
    "    if fusion_only:\n",
    "        print(f\"  ✨ New sources found by Fusion: {', '.join(fusion_only)}\")\n",
    "    \n",
    "    # Create comparison table\n",
    "    print(f\"\\n📋 Side-by-Side Ranking Comparison:\")\n",
    "    print(\"-\" * 100)\n",
    "    \n",
    "    comparison_data = []\n",
    "    max_len = max(len(baseline_sources), len(fusion_sources))\n",
    "    \n",
    "    for i in range(max_len):\n",
    "        row = {'Rank': i + 1}\n",
    "        \n",
    "        if i < len(baseline_sources):\n",
    "            row['Baseline Source'] = baseline_sources[i]\n",
    "            row['Baseline Score'] = f\"{baseline_nodes[i].score:.4f}\"\n",
    "        else:\n",
    "            row['Baseline Source'] = '-'\n",
    "            row['Baseline Score'] = '-'\n",
    "        \n",
    "        if i < len(fusion_sources):\n",
    "            row['Fusion Source'] = fusion_sources[i]\n",
    "            row['RRF Score'] = f\"{fusion_nodes[i].score:.4f}\"\n",
    "        else:\n",
    "            row['Fusion Source'] = '-'\n",
    "            row['RRF Score'] = '-'\n",
    "        \n",
    "        comparison_data.append(row)\n",
    "    \n",
    "    df = pd.DataFrame(comparison_data)\n",
    "    print(df.to_string(index=False))\n",
    "    \n",
    "    # Query variations summary\n",
    "    print(f\"\\n🔍 Query Variations Used in Fusion:\")\n",
    "    print(\"-\" * 100)\n",
    "    for i, q in enumerate(fusion_queries, 1):\n",
    "        print(f\"  {i}. {q}\")\n",
    "    \n",
    "    return {\n",
    "        'baseline_diversity': baseline_unique / len(baseline_sources),\n",
    "        'fusion_diversity': fusion_unique / len(fusion_sources),\n",
    "        'new_sources_found': len(fusion_only)\n",
    "    }\n",
    "\n",
    "metrics = compare_retrieval_results(baseline_response.source_nodes, fusion_nodes, fusion_queries)"
   ]
  },
  {
   "cell_type": "markdown",
   "id": "71486c25",
   "metadata": {},
   "source": [
    "## 9. Multiple Query Testing\n",
    "\n",
    "Let's test with additional queries to see consistent improvements."
   ]
  },
  {
   "cell_type": "code",
   "execution_count": 12,
   "id": "2557cff7",
   "metadata": {},
   "outputs": [
    {
     "name": "stdout",
     "output_type": "stream",
     "text": [
      "\n",
      "\n",
      "####################################################################################################\n",
      "# Query: What causes overfitting in machine learning models?\n",
      "####################################################################################################\n"
     ]
    },
    {
     "name": "stderr",
     "output_type": "stream",
     "text": [
      "2025-10-16 14:34:23,853 - INFO - HTTP Request: POST https://aoai-sweden-505.openai.azure.com/openai/deployments/text-embedding-ada-002/embeddings?api-version=2024-02-15-preview \"HTTP/1.1 200 OK\"\n",
      "2025-10-16 14:34:25,216 - INFO - HTTP Request: POST https://aoai-sweden-505.openai.azure.com/openai/deployments/gpt-4o/chat/completions?api-version=2024-02-15-preview \"HTTP/1.1 200 OK\"\n",
      "2025-10-16 14:34:25,932 - INFO - HTTP Request: POST https://aoai-sweden-505.openai.azure.com/openai/deployments/gpt-4o/chat/completions?api-version=2024-02-15-preview \"HTTP/1.1 200 OK\"\n",
      "2025-10-16 14:34:26,018 - INFO - HTTP Request: POST https://aoai-sweden-505.openai.azure.com/openai/deployments/text-embedding-ada-002/embeddings?api-version=2024-02-15-preview \"HTTP/1.1 200 OK\"\n",
      "2025-10-16 14:34:26,104 - INFO - HTTP Request: POST https://aoai-sweden-505.openai.azure.com/openai/deployments/text-embedding-ada-002/embeddings?api-version=2024-02-15-preview \"HTTP/1.1 200 OK\"\n",
      "2025-10-16 14:34:26,195 - INFO - HTTP Request: POST https://aoai-sweden-505.openai.azure.com/openai/deployments/text-embedding-ada-002/embeddings?api-version=2024-02-15-preview \"HTTP/1.1 200 OK\"\n",
      "2025-10-16 14:34:26,297 - INFO - HTTP Request: POST https://aoai-sweden-505.openai.azure.com/openai/deployments/text-embedding-ada-002/embeddings?api-version=2024-02-15-preview \"HTTP/1.1 200 OK\"\n",
      "2025-10-16 14:34:28,438 - INFO - HTTP Request: POST https://aoai-sweden-505.openai.azure.com/openai/deployments/gpt-4o/chat/completions?api-version=2024-02-15-preview \"HTTP/1.1 200 OK\"\n",
      "2025-10-16 14:34:28,529 - INFO - HTTP Request: POST https://aoai-sweden-505.openai.azure.com/openai/deployments/text-embedding-ada-002/embeddings?api-version=2024-02-15-preview \"HTTP/1.1 200 OK\"\n"
     ]
    },
    {
     "name": "stdout",
     "output_type": "stream",
     "text": [
      "\n",
      "📊 Results:\n",
      "  Baseline diversity: 80.00%\n",
      "  Fusion diversity:   80.00%\n",
      "  New sources found:  0\n",
      "\n",
      "\n",
      "####################################################################################################\n",
      "# Query: How do neural networks learn patterns from data?\n",
      "####################################################################################################\n"
     ]
    },
    {
     "name": "stderr",
     "output_type": "stream",
     "text": [
      "2025-10-16 14:34:30,117 - INFO - HTTP Request: POST https://aoai-sweden-505.openai.azure.com/openai/deployments/gpt-4o/chat/completions?api-version=2024-02-15-preview \"HTTP/1.1 200 OK\"\n",
      "2025-10-16 14:34:30,713 - INFO - HTTP Request: POST https://aoai-sweden-505.openai.azure.com/openai/deployments/gpt-4o/chat/completions?api-version=2024-02-15-preview \"HTTP/1.1 200 OK\"\n",
      "2025-10-16 14:34:30,818 - INFO - HTTP Request: POST https://aoai-sweden-505.openai.azure.com/openai/deployments/text-embedding-ada-002/embeddings?api-version=2024-02-15-preview \"HTTP/1.1 200 OK\"\n",
      "2025-10-16 14:34:30,910 - INFO - HTTP Request: POST https://aoai-sweden-505.openai.azure.com/openai/deployments/text-embedding-ada-002/embeddings?api-version=2024-02-15-preview \"HTTP/1.1 200 OK\"\n",
      "2025-10-16 14:34:31,003 - INFO - HTTP Request: POST https://aoai-sweden-505.openai.azure.com/openai/deployments/text-embedding-ada-002/embeddings?api-version=2024-02-15-preview \"HTTP/1.1 200 OK\"\n",
      "2025-10-16 14:34:31,101 - INFO - HTTP Request: POST https://aoai-sweden-505.openai.azure.com/openai/deployments/text-embedding-ada-002/embeddings?api-version=2024-02-15-preview \"HTTP/1.1 200 OK\"\n",
      "2025-10-16 14:34:32,183 - INFO - HTTP Request: POST https://aoai-sweden-505.openai.azure.com/openai/deployments/gpt-4o/chat/completions?api-version=2024-02-15-preview \"HTTP/1.1 200 OK\"\n",
      "2025-10-16 14:34:32,283 - INFO - HTTP Request: POST https://aoai-sweden-505.openai.azure.com/openai/deployments/text-embedding-ada-002/embeddings?api-version=2024-02-15-preview \"HTTP/1.1 200 OK\"\n"
     ]
    },
    {
     "name": "stdout",
     "output_type": "stream",
     "text": [
      "\n",
      "📊 Results:\n",
      "  Baseline diversity: 80.00%\n",
      "  Fusion diversity:   80.00%\n",
      "  New sources found:  0\n",
      "\n",
      "\n",
      "####################################################################################################\n",
      "# Query: Why is feature selection important for clustering?\n",
      "####################################################################################################\n"
     ]
    },
    {
     "name": "stderr",
     "output_type": "stream",
     "text": [
      "2025-10-16 14:34:33,097 - INFO - HTTP Request: POST https://aoai-sweden-505.openai.azure.com/openai/deployments/gpt-4o/chat/completions?api-version=2024-02-15-preview \"HTTP/1.1 200 OK\"\n",
      "2025-10-16 14:34:33,750 - INFO - HTTP Request: POST https://aoai-sweden-505.openai.azure.com/openai/deployments/gpt-4o/chat/completions?api-version=2024-02-15-preview \"HTTP/1.1 200 OK\"\n",
      "2025-10-16 14:34:33,832 - INFO - HTTP Request: POST https://aoai-sweden-505.openai.azure.com/openai/deployments/text-embedding-ada-002/embeddings?api-version=2024-02-15-preview \"HTTP/1.1 200 OK\"\n",
      "2025-10-16 14:34:33,926 - INFO - HTTP Request: POST https://aoai-sweden-505.openai.azure.com/openai/deployments/text-embedding-ada-002/embeddings?api-version=2024-02-15-preview \"HTTP/1.1 200 OK\"\n",
      "2025-10-16 14:34:34,013 - INFO - HTTP Request: POST https://aoai-sweden-505.openai.azure.com/openai/deployments/text-embedding-ada-002/embeddings?api-version=2024-02-15-preview \"HTTP/1.1 200 OK\"\n",
      "2025-10-16 14:34:34,102 - INFO - HTTP Request: POST https://aoai-sweden-505.openai.azure.com/openai/deployments/text-embedding-ada-002/embeddings?api-version=2024-02-15-preview \"HTTP/1.1 200 OK\"\n",
      "2025-10-16 14:34:35,368 - INFO - HTTP Request: POST https://aoai-sweden-505.openai.azure.com/openai/deployments/gpt-4o/chat/completions?api-version=2024-02-15-preview \"HTTP/1.1 200 OK\"\n"
     ]
    },
    {
     "name": "stdout",
     "output_type": "stream",
     "text": [
      "\n",
      "📊 Results:\n",
      "  Baseline diversity: 60.00%\n",
      "  Fusion diversity:   60.00%\n",
      "  New sources found:  0\n"
     ]
    }
   ],
   "source": [
    "test_queries = [\n",
    "    \"What causes overfitting in machine learning models?\",\n",
    "    \"How do neural networks learn patterns from data?\",\n",
    "    \"Why is feature selection important for clustering?\"\n",
    "]\n",
    "\n",
    "all_results = []\n",
    "\n",
    "for query in test_queries:\n",
    "    print(f\"\\n\\n{'#'*100}\")\n",
    "    print(f\"# Query: {query}\")\n",
    "    print(f\"{'#'*100}\")\n",
    "    \n",
    "    # Baseline\n",
    "    baseline_resp = baseline_query_engine.query(query)\n",
    "    baseline_sources = [Path(n.metadata.get('file_name', 'unknown')).stem \n",
    "                       for n in baseline_resp.source_nodes]\n",
    "    baseline_diversity = len(set(baseline_sources)) / len(baseline_sources)\n",
    "    \n",
    "    # Fusion\n",
    "    fusion_answer, fusion_nodes, fusion_queries = rag_fusion_query(\n",
    "        query=query,\n",
    "        retriever=retriever,\n",
    "        num_queries=3,\n",
    "        top_k_final=5,\n",
    "        verbose=False\n",
    "    )\n",
    "    fusion_sources = [Path(n.node.metadata.get('file_name', 'unknown')).stem \n",
    "                     for n in fusion_nodes]\n",
    "    fusion_diversity = len(set(fusion_sources)) / len(fusion_sources)\n",
    "    \n",
    "    # Calculate improvement\n",
    "    new_sources = len(set(fusion_sources) - set(baseline_sources))\n",
    "    \n",
    "    print(f\"\\n📊 Results:\")\n",
    "    print(f\"  Baseline diversity: {baseline_diversity:.2%}\")\n",
    "    print(f\"  Fusion diversity:   {fusion_diversity:.2%}\")\n",
    "    print(f\"  New sources found:  {new_sources}\")\n",
    "    \n",
    "    all_results.append({\n",
    "        'query': query[:50] + '...' if len(query) > 50 else query,\n",
    "        'baseline_diversity': baseline_diversity,\n",
    "        'fusion_diversity': fusion_diversity,\n",
    "        'new_sources': new_sources\n",
    "    })"
   ]
  },
  {
   "cell_type": "markdown",
   "id": "8ef83291",
   "metadata": {},
   "source": [
    "## 10. Visualization"
   ]
  },
  {
   "cell_type": "code",
   "execution_count": 13,
   "id": "f0946a59",
   "metadata": {},
   "outputs": [
    {
     "data": {
      "image/png": "[encoded data removed]",
      "text/plain": [
       "<Figure size 1500x500 with 2 Axes>"
      ]
     },
     "metadata": {},
     "output_type": "display_data"
    },
    {
     "name": "stdout",
     "output_type": "stream",
     "text": [
      "\n",
      "====================================================================================================\n",
      "SUMMARY STATISTICS\n",
      "====================================================================================================\n",
      "\n",
      "Average Baseline Diversity:  73.33%\n",
      "Average Fusion Diversity:    73.33%\n",
      "Average Diversity Improvement: 0.00%\n",
      "\n",
      "Total New Sources Discovered: 0\n",
      "Average New Sources per Query: 0.0\n"
     ]
    }
   ],
   "source": [
    "import matplotlib.pyplot as plt\n",
    "import numpy as np\n",
    "\n",
    "# Prepare data\n",
    "queries_short = [r['query'] for r in all_results]\n",
    "baseline_divs = [r['baseline_diversity'] for r in all_results]\n",
    "fusion_divs = [r['fusion_diversity'] for r in all_results]\n",
    "new_sources = [r['new_sources'] for r in all_results]\n",
    "\n",
    "# Create visualization\n",
    "fig, (ax1, ax2) = plt.subplots(1, 2, figsize=(15, 5))\n",
    "\n",
    "# Plot 1: Diversity comparison\n",
    "x = np.arange(len(queries_short))\n",
    "width = 0.35\n",
    "\n",
    "bars1 = ax1.bar(x - width/2, baseline_divs, width, label='Baseline', alpha=0.8, color='#3498db')\n",
    "bars2 = ax1.bar(x + width/2, fusion_divs, width, label='RAG-Fusion', alpha=0.8, color='#e74c3c')\n",
    "\n",
    "ax1.set_xlabel('Test Query', fontsize=12)\n",
    "ax1.set_ylabel('Source Diversity (Unique / Total)', fontsize=12)\n",
    "ax1.set_title('Retrieval Diversity: Baseline vs RAG-Fusion', fontsize=14, fontweight='bold')\n",
    "ax1.set_xticks(x)\n",
    "ax1.set_xticklabels(['Q1', 'Q2', 'Q3'])\n",
    "ax1.legend()\n",
    "ax1.set_ylim(0, 1.1)\n",
    "ax1.grid(axis='y', alpha=0.3)\n",
    "\n",
    "# Add value labels\n",
    "for bars in [bars1, bars2]:\n",
    "    for bar in bars:\n",
    "        height = bar.get_height()\n",
    "        ax1.text(bar.get_x() + bar.get_width()/2., height,\n",
    "                f'{height:.2%}',\n",
    "                ha='center', va='bottom', fontsize=9)\n",
    "\n",
    "# Plot 2: New sources discovered\n",
    "bars3 = ax2.bar(['Q1', 'Q2', 'Q3'], new_sources, alpha=0.8, color='#2ecc71')\n",
    "ax2.set_xlabel('Test Query', fontsize=12)\n",
    "ax2.set_ylabel('Number of New Sources', fontsize=12)\n",
    "ax2.set_title('Additional Sources Found by RAG-Fusion', fontsize=14, fontweight='bold')\n",
    "ax2.grid(axis='y', alpha=0.3)\n",
    "ax2.set_ylim(0, max(new_sources) + 1)\n",
    "\n",
    "# Add value labels\n",
    "for bar in bars3:\n",
    "    height = bar.get_height()\n",
    "    ax2.text(bar.get_x() + bar.get_width()/2., height,\n",
    "            f'{int(height)}',\n",
    "            ha='center', va='bottom', fontsize=11, fontweight='bold')\n",
    "\n",
    "plt.tight_layout()\n",
    "plt.savefig('rag_fusion_comparison.png', dpi=150, bbox_inches='tight')\n",
    "plt.show()\n",
    "\n",
    "# Summary statistics\n",
    "print(\"\\n\" + \"=\"*100)\n",
    "print(\"SUMMARY STATISTICS\")\n",
    "print(\"=\"*100)\n",
    "print(f\"\\nAverage Baseline Diversity:  {np.mean(baseline_divs):.2%}\")\n",
    "print(f\"Average Fusion Diversity:    {np.mean(fusion_divs):.2%}\")\n",
    "print(f\"Average Diversity Improvement: {(np.mean(fusion_divs) - np.mean(baseline_divs)):.2%}\")\n",
    "print(f\"\\nTotal New Sources Discovered: {sum(new_sources)}\")\n",
    "print(f\"Average New Sources per Query: {np.mean(new_sources):.1f}\")"
   ]
  },
  {
   "cell_type": "markdown",
   "id": "a2a1df28",
   "metadata": {},
   "source": [
    "## Key Takeaways\n",
    "\n",
    "### What We Learned\n",
    "\n",
    "1. **Single Queries Are Limiting**: A single query captures only one perspective, potentially missing relevant documents that use different terminology.\n",
    "\n",
    "2. **Multi-Query Increases Coverage**: By generating multiple query variations, we cast a wider net and retrieve more diverse, comprehensive results.\n",
    "\n",
    "3. **RRF is Elegant and Effective**: Reciprocal Rank Fusion provides a simple, parameter-light way to combine ranked lists without needing score normalization.\n",
    "\n",
    "4. **Cross-Query Consensus Matters**: Documents that appear in results for multiple query variations are likely more relevant, as they satisfy the information need from multiple angles.\n",
    "\n",
    "5. **Trade-off: Latency vs Quality**: RAG-Fusion requires multiple LLM calls (for query generation) and multiple retrievals, increasing latency but significantly improving recall.\n",
    "\n",
    "### When to Use RAG-Fusion\n",
    "\n",
    "✅ **Good for:**\n",
    "- Complex, ambiguous queries\n",
    "- Domain-specific terminology that may vary\n",
    "- Cases where comprehensive coverage is critical\n",
    "- Research and analysis tasks\n",
    "- When you need diverse perspectives\n",
    "\n",
    "❌ **Less effective for:**\n",
    "- Simple, unambiguous lookups\n",
    "- Real-time applications with strict latency requirements\n",
    "- Very large scale systems where parallel retrieval is costly\n",
    "- Cases where a single, precise answer is better than comprehensive coverage\n",
    "\n",
    "### Implementation Considerations\n",
    "\n",
    "- **Number of Query Variations**: 3-5 is typically optimal; more adds latency with diminishing returns\n",
    "- **RRF Parameter k**: Default of 60 works well; larger k reduces the impact of ranking differences\n",
    "- **Final Top-k**: Balance between context size and quality; 5-10 nodes is usually sufficient\n",
    "- **Parallel Execution**: Implement async retrieval for better performance\n",
    "\n",
    "### Next Steps\n",
    "\n",
    "In the next demo, we'll explore **Hybrid Search**, combining dense vector search with sparse BM25 retrieval for even more robust retrieval that balances semantic understanding with exact keyword matching."
   ]
  }
 ],
 "metadata": {
  "kernelspec": {
   "display_name": "rag-workshop",
   "language": "python",
   "name": "python3"
  },
  "language_info": {
   "codemirror_mode": {
    "name": "ipython",
    "version": 3
   },
   "file_extension": ".py",
   "mimetype": "text/x-python",
   "name": "python",
   "nbconvert_exporter": "python",
   "pygments_lexer": "ipython3",
   "version": "3.13.3"
  }
 },
 "nbformat": 4,
 "nbformat_minor": 5
}
