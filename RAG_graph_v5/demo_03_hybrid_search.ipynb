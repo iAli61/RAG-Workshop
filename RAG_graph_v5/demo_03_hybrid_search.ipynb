{
 "cells": [
  {
   "cell_type": "markdown",
   "id": "47927526",
   "metadata": {},
   "source": [
    "# Demo #3: Hybrid Search (Dense + Sparse Retrieval)\n",
    "\n",
    "## Learning Objectives\n",
    "\n",
    "In this demonstration, you will learn:\n",
    "\n",
    "1. **Dense vs Sparse Retrieval**: Understanding the fundamental differences and strengths of each approach\n",
    "2. **BM25 Algorithm**: How traditional keyword-based search works and when it excels\n",
    "3. **Hybrid Search**: Combining semantic and lexical search for robust retrieval\n",
    "4. **Weighted Fusion**: Balancing dense and sparse retrieval with alpha parameters\n",
    "\n",
    "## Theoretical Background\n",
    "\n",
    "### The Two Paradigms of Search\n",
    "\n",
    "Information retrieval has evolved through two major paradigms:\n",
    "\n",
    "#### 1. Sparse Retrieval (Lexical/Keyword-Based)\n",
    "\n",
    "**Examples**: TF-IDF, BM25  \n",
    "**Principle**: Represents documents as sparse vectors based on word frequencies  \n",
    "**Strengths**:\n",
    "- Excellent for exact keyword matches\n",
    "- Works well with acronyms, product codes, specific jargon\n",
    "- Computationally efficient\n",
    "- Interpretable and deterministic\n",
    "\n",
    "**Weaknesses**:\n",
    "- No semantic understanding (\"car\" ≠ \"automobile\")\n",
    "- Vocabulary mismatch problem\n",
    "- Cannot handle synonyms or paraphrasing\n",
    "\n",
    "#### 2. Dense Retrieval (Semantic/Vector-Based)\n",
    "\n",
    "**Examples**: Sentence transformers, embedding models  \n",
    "**Principle**: Represents documents as dense vectors in a continuous semantic space  \n",
    "**Strengths**:\n",
    "- Captures semantic meaning and context\n",
    "- Handles synonyms, paraphrasing, conceptual similarity\n",
    "- Can find relevant documents with completely different wording\n",
    "\n",
    "**Weaknesses**:\n",
    "- Can miss exact keyword matches\n",
    "- Less reliable for specific technical terms or acronyms\n",
    "- Embedding quality depends on training data\n",
    "\n",
    "### Hybrid Search: Best of Both Worlds\n",
    "\n",
    "Hybrid search combines both approaches, recognizing that:\n",
    "- Some queries require exact matching (\"What is the GPT-4 API endpoint?\")\n",
    "- Others require semantic understanding (\"How do transformers process sequences?\")\n",
    "- Most queries benefit from both\n",
    "\n",
    "**Fusion Strategy**:\n",
    "```\n",
    "hybrid_score = α × dense_score + (1 - α) × sparse_score\n",
    "```\n",
    "Where α ∈ [0, 1] controls the balance (α=0.5 means equal weight)\n",
    "\n",
    "**Key Citations**:\n",
    "- RAG Series III: Hybrid Search (Reference 24)\n",
    "- Improving RAG Performance: WTF is Hybrid Search? - Fuzzy Labs (Reference 25)"
   ]
  },
  {
   "cell_type": "markdown",
   "id": "236c0a65",
   "metadata": {},
   "source": [
    "## 1. Environment Setup"
   ]
  },
  {
   "cell_type": "code",
   "execution_count": 1,
   "id": "046a8d65",
   "metadata": {},
   "outputs": [
    {
     "name": "stdout",
     "output_type": "stream",
     "text": [
      "✓ All imports successful\n"
     ]
    }
   ],
   "source": [
    "# Core imports\n",
    "import os\n",
    "from pathlib import Path\n",
    "from typing import List\n",
    "import warnings\n",
    "warnings.filterwarnings('ignore')\n",
    "\n",
    "# LlamaIndex core components\n",
    "from llama_index.core import (\n",
    "    SimpleDirectoryReader,\n",
    "    VectorStoreIndex,\n",
    "    Settings,\n",
    "    StorageContext\n",
    ")\n",
    "from llama_index.core.node_parser import SentenceSplitter\n",
    "from llama_index.core.retrievers import QueryFusionRetriever\n",
    "\n",
    "# BM25 Retriever\n",
    "from llama_index.retrievers.bm25 import BM25Retriever\n",
    "\n",
    "# Azure OpenAI components\n",
    "from llama_index.llms.azure_openai import AzureOpenAI\n",
    "from llama_index.embeddings.azure_openai import AzureOpenAIEmbedding\n",
    "\n",
    "# Utilities\n",
    "from dotenv import load_dotenv\n",
    "import warnings\n",
    "warnings.filterwarnings('ignore')\n",
    "\n",
    "load_dotenv()\n",
    "\n",
    "print(\"✓ All imports successful\")"
   ]
  },
  {
   "cell_type": "code",
   "execution_count": 2,
   "id": "44447699",
   "metadata": {},
   "outputs": [
    {
     "name": "stdout",
     "output_type": "stream",
     "text": [
      "✓ Azure OpenAI configured\n"
     ]
    }
   ],
   "source": [
    "# Azure OpenAI Configuration\n",
    "llm = AzureOpenAI(\n",
    "    model=\"gpt-4o\",\n",
    "    deployment_name=os.getenv(\"AZURE_OPENAI_DEPLOYMENT_NAME\", \"gpt-4o\"),\n",
    "    api_key=os.getenv(\"AZURE_OPENAI_API_KEY\"),\n",
    "    azure_endpoint=os.getenv(\"AZURE_OPENAI_ENDPOINT\"),\n",
    "    api_version=\"2024-02-15-preview\",\n",
    "    temperature=0.1\n",
    ")\n",
    "\n",
    "embed_model = AzureOpenAIEmbedding(\n",
    "    model=\"text-embedding-ada-002\",\n",
    "    deployment_name=os.getenv(\"AZURE_OPENAI_EMBEDDING_DEPLOYMENT\", \"text-embedding-ada-002\"),\n",
    "    api_key=os.getenv(\"AZURE_OPENAI_API_KEY\"),\n",
    "    azure_endpoint=os.getenv(\"AZURE_OPENAI_ENDPOINT\"),\n",
    "    api_version=\"2024-02-15-preview\"\n",
    ")\n",
    "\n",
    "# Set global settings\n",
    "Settings.llm = llm\n",
    "Settings.embed_model = embed_model\n",
    "Settings.chunk_size = 512\n",
    "Settings.chunk_overlap = 50\n",
    "\n",
    "print(\"✓ Azure OpenAI configured\")"
   ]
  },
  {
   "cell_type": "markdown",
   "id": "af8b4aa1",
   "metadata": {},
   "source": [
    "## 2. Data Preparation\n",
    "\n",
    "We'll load technical documents with jargon and acronyms to demonstrate BM25's strengths."
   ]
  },
  {
   "cell_type": "code",
   "execution_count": 3,
   "id": "b365030c",
   "metadata": {},
   "outputs": [
    {
     "name": "stdout",
     "output_type": "stream",
     "text": [
      "✓ Loaded 6 documents:\n",
      "  1. bert_model.md (312 words)\n",
      "  2. docker_containers.md (637 words)\n",
      "  3. embeddings_ml.md (715 words)\n",
      "  4. gpt4_model.md (372 words)\n",
      "  5. rest_api.md (515 words)\n",
      "  6. transformer_architecture.md (556 words)\n"
     ]
    }
   ],
   "source": [
    "# Load documents from tech_docs directory (contains acronyms, technical terms)\n",
    "data_path = Path(\"./data/tech_docs\")\n",
    "documents = SimpleDirectoryReader(\n",
    "    input_dir=str(data_path),\n",
    "    required_exts=[\".md\"],\n",
    "    recursive=False\n",
    ").load_data()\n",
    "\n",
    "# Use first 5-6 documents\n",
    "documents = documents[:6]\n",
    "\n",
    "print(f\"✓ Loaded {len(documents)} documents:\")\n",
    "for i, doc in enumerate(documents, 1):\n",
    "    filename = Path(doc.metadata.get('file_name', 'unknown')).name\n",
    "    word_count = len(doc.text.split())\n",
    "    print(f\"  {i}. {filename} ({word_count} words)\")"
   ]
  },
  {
   "cell_type": "markdown",
   "id": "61829598",
   "metadata": {},
   "source": [
    "## 3. Create Nodes (Chunks)\n",
    "\n",
    "Both dense and sparse retrievers need to work on the same chunks."
   ]
  },
  {
   "cell_type": "code",
   "execution_count": 4,
   "id": "deb65d3d",
   "metadata": {},
   "outputs": [
    {
     "name": "stdout",
     "output_type": "stream",
     "text": [
      "✓ Created 15 text chunks (nodes)\n",
      "  First node preview: # BERT: Bidirectional Encoder Representations from Transformers\n",
      "\n",
      "**BERT** is a transformer-based language model developed by Google Research in 2018. ...\n"
     ]
    }
   ],
   "source": [
    "# Create node parser\n",
    "node_parser = SentenceSplitter(\n",
    "    chunk_size=512,\n",
    "    chunk_overlap=50\n",
    ")\n",
    "\n",
    "# Parse documents into nodes\n",
    "nodes = node_parser.get_nodes_from_documents(documents)\n",
    "\n",
    "print(f\"✓ Created {len(nodes)} text chunks (nodes)\")\n",
    "print(f\"  First node preview: {nodes[0].text[:150]}...\")"
   ]
  },
  {
   "cell_type": "markdown",
   "id": "d74e4f9e",
   "metadata": {},
   "source": [
    "## 4. Dense Vector Search Implementation\n",
    "\n",
    "First, let's implement standard semantic vector search."
   ]
  },
  {
   "cell_type": "code",
   "execution_count": 5,
   "id": "26d3db7b",
   "metadata": {},
   "outputs": [
    {
     "name": "stdout",
     "output_type": "stream",
     "text": [
      "Building dense vector index...\n"
     ]
    },
    {
     "data": {
      "application/vnd.jupyter.widget-view+json": {
       "model_id": "22eca157ca93402696fe4cdd4f094219",
       "version_major": 2,
       "version_minor": 0
      },
      "text/plain": [
       "Generating embeddings:   0%|          | 0/15 [00:00<?, ?it/s]"
      ]
     },
     "metadata": {},
     "output_type": "display_data"
    },
    {
     "name": "stderr",
     "output_type": "stream",
     "text": [
      "2025-10-16 14:41:14,576 - INFO - HTTP Request: POST https://aoai-sweden-505.openai.azure.com/openai/deployments/text-embedding-ada-002/embeddings?api-version=2024-02-15-preview \"HTTP/1.1 200 OK\"\n",
      "2025-10-16 14:41:14,820 - INFO - HTTP Request: POST https://aoai-sweden-505.openai.azure.com/openai/deployments/text-embedding-ada-002/embeddings?api-version=2024-02-15-preview \"HTTP/1.1 200 OK\"\n"
     ]
    },
    {
     "name": "stdout",
     "output_type": "stream",
     "text": [
      "✓ Dense vector retriever ready\n"
     ]
    }
   ],
   "source": [
    "# Build vector store index\n",
    "print(\"Building dense vector index...\")\n",
    "vector_index = VectorStoreIndex(\n",
    "    nodes,\n",
    "    show_progress=True\n",
    ")\n",
    "\n",
    "# Create vector retriever\n",
    "vector_retriever = vector_index.as_retriever(\n",
    "    similarity_top_k=5\n",
    ")\n",
    "\n",
    "print(\"✓ Dense vector retriever ready\")"
   ]
  },
  {
   "cell_type": "markdown",
   "id": "29efd9d4",
   "metadata": {},
   "source": [
    "## 5. Sparse BM25 Search Implementation\n",
    "\n",
    "Now, let's implement BM25, the gold standard for keyword-based retrieval."
   ]
  },
  {
   "cell_type": "code",
   "execution_count": 6,
   "id": "e66f290e",
   "metadata": {},
   "outputs": [
    {
     "name": "stderr",
     "output_type": "stream",
     "text": [
      "2025-10-16 14:41:14,870 - DEBUG - Building index from IDs objects\n"
     ]
    },
    {
     "name": "stdout",
     "output_type": "stream",
     "text": [
      "Building BM25 index...\n",
      "✓ BM25 retriever ready\n",
      "\n",
      "ℹ️  BM25 uses statistical keyword matching based on:\n",
      "   - Term Frequency (TF): How often a term appears in a document\n",
      "   - Inverse Document Frequency (IDF): How rare/common a term is across all documents\n",
      "   - Document length normalization\n"
     ]
    }
   ],
   "source": [
    "# Create BM25 retriever\n",
    "print(\"Building BM25 index...\")\n",
    "bm25_retriever = BM25Retriever.from_defaults(\n",
    "    nodes=nodes,\n",
    "    similarity_top_k=5\n",
    ")\n",
    "\n",
    "print(\"✓ BM25 retriever ready\")\n",
    "print(\"\\nℹ️  BM25 uses statistical keyword matching based on:\")\n",
    "print(\"   - Term Frequency (TF): How often a term appears in a document\")\n",
    "print(\"   - Inverse Document Frequency (IDF): How rare/common a term is across all documents\")\n",
    "print(\"   - Document length normalization\")"
   ]
  },
  {
   "cell_type": "markdown",
   "id": "edc81d31",
   "metadata": {},
   "source": [
    "## 6. Hybrid Retriever Implementation\n",
    "\n",
    "Combine both retrievers using QueryFusionRetriever."
   ]
  },
  {
   "cell_type": "code",
   "execution_count": 7,
   "id": "4708e5ce",
   "metadata": {},
   "outputs": [
    {
     "name": "stdout",
     "output_type": "stream",
     "text": [
      "✓ Hybrid retriever ready\n",
      "  Fusion method: Reciprocal Rank Fusion (RRF)\n",
      "  Combining: Dense vector search + BM25 sparse search\n"
     ]
    }
   ],
   "source": [
    "# Create hybrid retriever that fuses vector and BM25 results\n",
    "hybrid_retriever = QueryFusionRetriever(\n",
    "    retrievers=[vector_retriever, bm25_retriever],\n",
    "    similarity_top_k=5,\n",
    "    num_queries=1,  # No query generation, just fusion\n",
    "    mode=\"reciprocal_rerank\",  # Use RRF for fusion\n",
    "    use_async=False\n",
    ")\n",
    "\n",
    "print(\"✓ Hybrid retriever ready\")\n",
    "print(\"  Fusion method: Reciprocal Rank Fusion (RRF)\")\n",
    "print(\"  Combining: Dense vector search + BM25 sparse search\")"
   ]
  },
  {
   "cell_type": "markdown",
   "id": "34783e0b",
   "metadata": {},
   "source": [
    "## 7. Comparative Testing\n",
    "\n",
    "Let's test all three approaches with different types of queries."
   ]
  },
  {
   "cell_type": "code",
   "execution_count": 8,
   "id": "53cf3028",
   "metadata": {},
   "outputs": [
    {
     "name": "stdout",
     "output_type": "stream",
     "text": [
      "✓ Comparison function ready\n"
     ]
    }
   ],
   "source": [
    "from llama_index.core import QueryBundle\n",
    "\n",
    "def compare_retrievers(query: str, vector_ret, bm25_ret, hybrid_ret):\n",
    "    \"\"\"\n",
    "    Compare retrieval results from vector, BM25, and hybrid approaches.\n",
    "    \"\"\"\n",
    "    print(\"\\n\" + \"=\"*100)\n",
    "    print(f\"QUERY: {query}\")\n",
    "    print(\"=\"*100)\n",
    "    \n",
    "    query_bundle = QueryBundle(query_str=query)\n",
    "    \n",
    "    # Get results from each retriever\n",
    "    vector_results = vector_ret.retrieve(query_bundle)\n",
    "    bm25_results = bm25_ret.retrieve(query_bundle)\n",
    "    hybrid_results = hybrid_ret.retrieve(query_bundle)\n",
    "    \n",
    "    # Helper function to extract source info\n",
    "    def get_sources(results):\n",
    "        return [(Path(n.node.metadata.get('file_name', 'unknown')).stem, n.score) \n",
    "                for n in results[:3]]\n",
    "    \n",
    "    vector_sources = get_sources(vector_results)\n",
    "    bm25_sources = get_sources(bm25_results)\n",
    "    hybrid_sources = get_sources(hybrid_results)\n",
    "    \n",
    "    # Display results\n",
    "    print(\"\\n🔵 DENSE VECTOR SEARCH (Semantic)\")\n",
    "    print(\"-\" * 100)\n",
    "    for i, (source, score) in enumerate(vector_sources, 1):\n",
    "        print(f\"  {i}. {source:<40} Score: {score:.4f}\")\n",
    "    \n",
    "    print(\"\\n🟠 SPARSE BM25 SEARCH (Keyword)\")\n",
    "    print(\"-\" * 100)\n",
    "    for i, (source, score) in enumerate(bm25_sources, 1):\n",
    "        print(f\"  {i}. {source:<40} Score: {score:.4f}\")\n",
    "    \n",
    "    print(\"\\n🟢 HYBRID SEARCH (Combined)\")\n",
    "    print(\"-\" * 100)\n",
    "    for i, (source, score) in enumerate(hybrid_sources, 1):\n",
    "        print(f\"  {i}. {source:<40} Score: {score:.4f}\")\n",
    "    \n",
    "    # Analysis\n",
    "    vector_set = set(s for s, _ in vector_sources)\n",
    "    bm25_set = set(s for s, _ in bm25_sources)\n",
    "    hybrid_set = set(s for s, _ in hybrid_sources)\n",
    "    \n",
    "    print(\"\\n📊 ANALYSIS:\")\n",
    "    print(\"-\" * 100)\n",
    "    print(f\"  Vector-only sources: {vector_set - bm25_set}\")\n",
    "    print(f\"  BM25-only sources:   {bm25_set - vector_set}\")\n",
    "    print(f\"  Common sources:      {vector_set & bm25_set}\")\n",
    "    print(f\"  Hybrid unique pick:  {hybrid_set - (vector_set | bm25_set)}\")\n",
    "    \n",
    "    return {\n",
    "        'vector': vector_results,\n",
    "        'bm25': bm25_results,\n",
    "        'hybrid': hybrid_results\n",
    "    }\n",
    "\n",
    "print(\"✓ Comparison function ready\")"
   ]
  },
  {
   "cell_type": "markdown",
   "id": "02547bee",
   "metadata": {},
   "source": [
    "### 7.1 Test Query 1: Semantic/Conceptual Query\n",
    "\n",
    "This query emphasizes concepts over exact terms."
   ]
  },
  {
   "cell_type": "code",
   "execution_count": 9,
   "id": "43077b4c",
   "metadata": {},
   "outputs": [
    {
     "name": "stdout",
     "output_type": "stream",
     "text": [
      "\n",
      "====================================================================================================\n",
      "QUERY: How do neural language models understand context in sequences?\n",
      "====================================================================================================\n"
     ]
    },
    {
     "name": "stderr",
     "output_type": "stream",
     "text": [
      "2025-10-16 14:41:15,173 - INFO - HTTP Request: POST https://aoai-sweden-505.openai.azure.com/openai/deployments/text-embedding-ada-002/embeddings?api-version=2024-02-15-preview \"HTTP/1.1 200 OK\"\n"
     ]
    },
    {
     "name": "stdout",
     "output_type": "stream",
     "text": [
      "\n",
      "🔵 DENSE VECTOR SEARCH (Semantic)\n",
      "----------------------------------------------------------------------------------------------------\n",
      "  1. bert_model                               Score: 0.7738\n",
      "  2. embeddings_ml                            Score: 0.7704\n",
      "  3. transformer_architecture                 Score: 0.7692\n",
      "\n",
      "🟠 SPARSE BM25 SEARCH (Keyword)\n",
      "----------------------------------------------------------------------------------------------------\n",
      "  1. bert_model                               Score: 2.0865\n",
      "  2. transformer_architecture                 Score: 1.9988\n",
      "  3. embeddings_ml                            Score: 1.7980\n",
      "\n",
      "🟢 HYBRID SEARCH (Combined)\n",
      "----------------------------------------------------------------------------------------------------\n",
      "  1. bert_model                               Score: 0.0333\n",
      "  2. transformer_architecture                 Score: 0.0325\n",
      "  3. embeddings_ml                            Score: 0.0320\n",
      "\n",
      "📊 ANALYSIS:\n",
      "----------------------------------------------------------------------------------------------------\n",
      "  Vector-only sources: set()\n",
      "  BM25-only sources:   set()\n",
      "  Common sources:      {'embeddings_ml', 'transformer_architecture', 'bert_model'}\n",
      "  Hybrid unique pick:  set()\n",
      "\n",
      "💡 EXPECTED: Dense vector search should excel here (semantic understanding)\n"
     ]
    }
   ],
   "source": [
    "query1 = \"How do neural language models understand context in sequences?\"\n",
    "\n",
    "results1 = compare_retrievers(\n",
    "    query1,\n",
    "    vector_retriever,\n",
    "    bm25_retriever,\n",
    "    hybrid_retriever\n",
    ")\n",
    "\n",
    "print(\"\\n💡 EXPECTED: Dense vector search should excel here (semantic understanding)\")"
   ]
  },
  {
   "cell_type": "markdown",
   "id": "4abe3b0c",
   "metadata": {},
   "source": [
    "### 7.2 Test Query 2: Keyword/Acronym Query\n",
    "\n",
    "This query uses specific technical terms and acronyms."
   ]
  },
  {
   "cell_type": "code",
   "execution_count": 10,
   "id": "48ab27be",
   "metadata": {},
   "outputs": [
    {
     "name": "stdout",
     "output_type": "stream",
     "text": [
      "\n",
      "====================================================================================================\n",
      "QUERY: What is the REST API endpoint structure?\n",
      "====================================================================================================\n"
     ]
    },
    {
     "name": "stderr",
     "output_type": "stream",
     "text": [
      "2025-10-16 14:41:15,354 - INFO - HTTP Request: POST https://aoai-sweden-505.openai.azure.com/openai/deployments/text-embedding-ada-002/embeddings?api-version=2024-02-15-preview \"HTTP/1.1 200 OK\"\n"
     ]
    },
    {
     "name": "stdout",
     "output_type": "stream",
     "text": [
      "\n",
      "🔵 DENSE VECTOR SEARCH (Semantic)\n",
      "----------------------------------------------------------------------------------------------------\n",
      "  1. rest_api                                 Score: 0.8457\n",
      "  2. rest_api                                 Score: 0.8145\n",
      "  3. transformer_architecture                 Score: 0.7378\n",
      "\n",
      "🟠 SPARSE BM25 SEARCH (Keyword)\n",
      "----------------------------------------------------------------------------------------------------\n",
      "  1. rest_api                                 Score: 2.2293\n",
      "  2. rest_api                                 Score: 1.5953\n",
      "  3. docker_containers                        Score: 1.4331\n",
      "\n",
      "🟢 HYBRID SEARCH (Combined)\n",
      "----------------------------------------------------------------------------------------------------\n",
      "  1. rest_api                                 Score: 0.0333\n",
      "  2. rest_api                                 Score: 0.0328\n",
      "  3. docker_containers                        Score: 0.0318\n",
      "\n",
      "📊 ANALYSIS:\n",
      "----------------------------------------------------------------------------------------------------\n",
      "  Vector-only sources: {'transformer_architecture'}\n",
      "  BM25-only sources:   {'docker_containers'}\n",
      "  Common sources:      {'rest_api'}\n",
      "  Hybrid unique pick:  set()\n",
      "\n",
      "💡 EXPECTED: BM25 should excel here (exact term matching: 'REST', 'API', 'endpoint')\n"
     ]
    }
   ],
   "source": [
    "query2 = \"What is the REST API endpoint structure?\"\n",
    "\n",
    "results2 = compare_retrievers(\n",
    "    query2,\n",
    "    vector_retriever,\n",
    "    bm25_retriever,\n",
    "    hybrid_retriever\n",
    ")\n",
    "\n",
    "print(\"\\n💡 EXPECTED: BM25 should excel here (exact term matching: 'REST', 'API', 'endpoint')\")"
   ]
  },
  {
   "cell_type": "markdown",
   "id": "0b30cb12",
   "metadata": {},
   "source": [
    "### 7.3 Test Query 3: Mixed Query\n",
    "\n",
    "This query requires both semantic understanding and keyword matching."
   ]
  },
  {
   "cell_type": "code",
   "execution_count": 11,
   "id": "6563bde9",
   "metadata": {},
   "outputs": [
    {
     "name": "stdout",
     "output_type": "stream",
     "text": [
      "\n",
      "====================================================================================================\n",
      "QUERY: Explain how BERT embeddings capture semantic meaning\n",
      "====================================================================================================\n"
     ]
    },
    {
     "name": "stderr",
     "output_type": "stream",
     "text": [
      "2025-10-16 14:41:15,518 - INFO - HTTP Request: POST https://aoai-sweden-505.openai.azure.com/openai/deployments/text-embedding-ada-002/embeddings?api-version=2024-02-15-preview \"HTTP/1.1 200 OK\"\n"
     ]
    },
    {
     "name": "stdout",
     "output_type": "stream",
     "text": [
      "\n",
      "🔵 DENSE VECTOR SEARCH (Semantic)\n",
      "----------------------------------------------------------------------------------------------------\n",
      "  1. embeddings_ml                            Score: 0.8362\n",
      "  2. bert_model                               Score: 0.8309\n",
      "  3. embeddings_ml                            Score: 0.8149\n",
      "\n",
      "🟠 SPARSE BM25 SEARCH (Keyword)\n",
      "----------------------------------------------------------------------------------------------------\n",
      "  1. embeddings_ml                            Score: 3.9285\n",
      "  2. embeddings_ml                            Score: 2.5940\n",
      "  3. embeddings_ml                            Score: 2.1508\n",
      "\n",
      "🟢 HYBRID SEARCH (Combined)\n",
      "----------------------------------------------------------------------------------------------------\n",
      "  1. embeddings_ml                            Score: 0.0333\n",
      "  2. embeddings_ml                            Score: 0.0325\n",
      "  3. bert_model                               Score: 0.0323\n",
      "\n",
      "📊 ANALYSIS:\n",
      "----------------------------------------------------------------------------------------------------\n",
      "  Vector-only sources: {'bert_model'}\n",
      "  BM25-only sources:   set()\n",
      "  Common sources:      {'embeddings_ml'}\n",
      "  Hybrid unique pick:  set()\n",
      "\n",
      "💡 EXPECTED: Hybrid should excel here (needs both 'BERT' exact match + semantic 'embeddings', 'meaning')\n"
     ]
    }
   ],
   "source": [
    "query3 = \"Explain how BERT embeddings capture semantic meaning\"\n",
    "\n",
    "results3 = compare_retrievers(\n",
    "    query3,\n",
    "    vector_retriever,\n",
    "    bm25_retriever,\n",
    "    hybrid_retriever\n",
    ")\n",
    "\n",
    "print(\"\\n💡 EXPECTED: Hybrid should excel here (needs both 'BERT' exact match + semantic 'embeddings', 'meaning')\")"
   ]
  },
  {
   "cell_type": "markdown",
   "id": "1824b349",
   "metadata": {},
   "source": [
    "## 8. Detailed Content Comparison\n",
    "\n",
    "Let's look at what content each retriever actually retrieved."
   ]
  },
  {
   "cell_type": "code",
   "execution_count": 12,
   "id": "eb054044",
   "metadata": {},
   "outputs": [
    {
     "name": "stdout",
     "output_type": "stream",
     "text": [
      "\n",
      "####################################################################################################\n",
      "# CONTENT COMPARISON FOR: Explain how BERT embeddings capture semantic meaning\n",
      "####################################################################################################\n",
      "\n",
      "====================================================================================================\n",
      "VECTOR - TOP RETRIEVED CHUNK\n",
      "====================================================================================================\n",
      "\n",
      "Source: embeddings_ml\n",
      "Score:  0.8362\n",
      "\n",
      "Content:\n",
      "----------------------------------------------------------------------------------------------------\n",
      "# Embeddings in Machine Learning\n",
      "\n",
      "**Embeddings** are dense vector representations of discrete objects (words, images, users, items) that capture semantic meaning in a continuous, low-dimensional space. They are fundamental to modern machine learning, particularly in natural language processing and r...\n",
      "----------------------------------------------------------------------------------------------------\n",
      "\n",
      "====================================================================================================\n",
      "BM25 - TOP RETRIEVED CHUNK\n",
      "====================================================================================================\n",
      "\n",
      "Source: embeddings_ml\n",
      "Score:  3.9285\n",
      "\n",
      "Content:\n",
      "----------------------------------------------------------------------------------------------------\n",
      "# Embeddings in Machine Learning\n",
      "\n",
      "**Embeddings** are dense vector representations of discrete objects (words, images, users, items) that capture semantic meaning in a continuous, low-dimensional space. They are fundamental to modern machine learning, particularly in natural language processing and r...\n",
      "----------------------------------------------------------------------------------------------------\n",
      "\n",
      "====================================================================================================\n",
      "HYBRID - TOP RETRIEVED CHUNK\n",
      "====================================================================================================\n",
      "\n",
      "Source: embeddings_ml\n",
      "Score:  0.0333\n",
      "\n",
      "Content:\n",
      "----------------------------------------------------------------------------------------------------\n",
      "# Embeddings in Machine Learning\n",
      "\n",
      "**Embeddings** are dense vector representations of discrete objects (words, images, users, items) that capture semantic meaning in a continuous, low-dimensional space. They are fundamental to modern machine learning, particularly in natural language processing and r...\n",
      "----------------------------------------------------------------------------------------------------\n"
     ]
    }
   ],
   "source": [
    "def show_retrieved_content(query, results_dict, max_chars=300):\n",
    "    \"\"\"\n",
    "    Display actual retrieved content from each retriever.\n",
    "    \"\"\"\n",
    "    print(\"\\n\" + \"#\"*100)\n",
    "    print(f\"# CONTENT COMPARISON FOR: {query}\")\n",
    "    print(\"#\"*100)\n",
    "    \n",
    "    for method, results in results_dict.items():\n",
    "        print(f\"\\n{'='*100}\")\n",
    "        print(f\"{method.upper()} - TOP RETRIEVED CHUNK\")\n",
    "        print(f\"{'='*100}\")\n",
    "        \n",
    "        top_node = results[0]\n",
    "        source = Path(top_node.node.metadata.get('file_name', 'unknown')).stem\n",
    "        \n",
    "        print(f\"\\nSource: {source}\")\n",
    "        print(f\"Score:  {top_node.score:.4f}\")\n",
    "        print(f\"\\nContent:\")\n",
    "        print(\"-\" * 100)\n",
    "        content = top_node.node.text[:max_chars]\n",
    "        print(content + \"...\" if len(top_node.node.text) > max_chars else content)\n",
    "        print(\"-\" * 100)\n",
    "\n",
    "# Show content for the mixed query (most interesting)\n",
    "show_retrieved_content(query3, results3)"
   ]
  },
  {
   "cell_type": "markdown",
   "id": "f60aee00",
   "metadata": {},
   "source": [
    "## 9. Quantitative Analysis\n",
    "\n",
    "Let's perform statistical analysis across multiple queries."
   ]
  },
  {
   "cell_type": "code",
   "execution_count": 13,
   "id": "c444cc32",
   "metadata": {},
   "outputs": [
    {
     "name": "stderr",
     "output_type": "stream",
     "text": [
      "2025-10-16 14:41:15,817 - INFO - HTTP Request: POST https://aoai-sweden-505.openai.azure.com/openai/deployments/text-embedding-ada-002/embeddings?api-version=2024-02-15-preview \"HTTP/1.1 200 OK\"\n",
      "2025-10-16 14:41:15,928 - INFO - HTTP Request: POST https://aoai-sweden-505.openai.azure.com/openai/deployments/text-embedding-ada-002/embeddings?api-version=2024-02-15-preview \"HTTP/1.1 200 OK\"\n",
      "2025-10-16 14:41:16,036 - INFO - HTTP Request: POST https://aoai-sweden-505.openai.azure.com/openai/deployments/text-embedding-ada-002/embeddings?api-version=2024-02-15-preview \"HTTP/1.1 200 OK\"\n",
      "2025-10-16 14:41:16,138 - INFO - HTTP Request: POST https://aoai-sweden-505.openai.azure.com/openai/deployments/text-embedding-ada-002/embeddings?api-version=2024-02-15-preview \"HTTP/1.1 200 OK\"\n",
      "2025-10-16 14:41:16,268 - INFO - HTTP Request: POST https://aoai-sweden-505.openai.azure.com/openai/deployments/text-embedding-ada-002/embeddings?api-version=2024-02-15-preview \"HTTP/1.1 200 OK\"\n"
     ]
    },
    {
     "name": "stdout",
     "output_type": "stream",
     "text": [
      "\n",
      "====================================================================================================\n",
      "COMPREHENSIVE PERFORMANCE ANALYSIS\n",
      "====================================================================================================\n",
      "\n",
      " Query Type                                                 Query  Vector Avg Score  BM25 Avg Score  Hybrid Avg Score  Vector Diversity  BM25 Diversity  Hybrid Diversity\n",
      "  Semantic How do transformers process sequential information...          0.793768        1.578355          0.027075                 1               3                 2\n",
      "   Keyword                      What is Docker containerization?          0.824122        1.465985          0.032625                 1               2                 2\n",
      "     Mixed       Explain GPT-4 architecture for natural language          0.810166        1.888384          0.032793                 2               2                 2\n",
      "   Acronym                     What are REST API best practices?          0.812361        2.355285          0.032539                 2               2                 2\n",
      "Conceptual        How does machine learning understand patterns?          0.763988        1.863049          0.032360                 3               3                 2\n",
      "\n",
      "====================================================================================================\n",
      "SUMMARY STATISTICS\n",
      "====================================================================================================\n",
      "\n",
      "Average Scores Across All Queries:\n",
      "  Vector:  0.8009\n",
      "  BM25:    1.8302\n",
      "  Hybrid:  0.0315\n",
      "\n",
      "Average Diversity (Unique Sources in Top 3):\n",
      "  Vector:  1.80\n",
      "  BM25:    2.40\n",
      "  Hybrid:  2.00\n"
     ]
    }
   ],
   "source": [
    "import pandas as pd\n",
    "import numpy as np\n",
    "\n",
    "# Test suite with different query types\n",
    "test_suite = [\n",
    "    (\"Semantic\", \"How do transformers process sequential information?\"),\n",
    "    (\"Keyword\", \"What is Docker containerization?\"),\n",
    "    (\"Mixed\", \"Explain GPT-4 architecture for natural language\"),\n",
    "    (\"Acronym\", \"What are REST API best practices?\"),\n",
    "    (\"Conceptual\", \"How does machine learning understand patterns?\")\n",
    "]\n",
    "\n",
    "results_data = []\n",
    "\n",
    "for query_type, query in test_suite:\n",
    "    query_bundle = QueryBundle(query_str=query)\n",
    "    \n",
    "    # Retrieve\n",
    "    vector_res = vector_retriever.retrieve(query_bundle)\n",
    "    bm25_res = bm25_retriever.retrieve(query_bundle)\n",
    "    hybrid_res = hybrid_retriever.retrieve(query_bundle)\n",
    "    \n",
    "    # Calculate average scores\n",
    "    vector_avg = np.mean([n.score for n in vector_res[:3]])\n",
    "    bm25_avg = np.mean([n.score for n in bm25_res[:3]])\n",
    "    hybrid_avg = np.mean([n.score for n in hybrid_res[:3]])\n",
    "    \n",
    "    # Count unique sources\n",
    "    vector_sources = set(Path(n.node.metadata.get('file_name', 'unknown')).stem \n",
    "                        for n in vector_res[:3])\n",
    "    bm25_sources = set(Path(n.node.metadata.get('file_name', 'unknown')).stem \n",
    "                      for n in bm25_res[:3])\n",
    "    hybrid_sources = set(Path(n.node.metadata.get('file_name', 'unknown')).stem \n",
    "                        for n in hybrid_res[:3])\n",
    "    \n",
    "    results_data.append({\n",
    "        'Query Type': query_type,\n",
    "        'Query': query[:50] + '...' if len(query) > 50 else query,\n",
    "        'Vector Avg Score': vector_avg,\n",
    "        'BM25 Avg Score': bm25_avg,\n",
    "        'Hybrid Avg Score': hybrid_avg,\n",
    "        'Vector Diversity': len(vector_sources),\n",
    "        'BM25 Diversity': len(bm25_sources),\n",
    "        'Hybrid Diversity': len(hybrid_sources)\n",
    "    })\n",
    "\n",
    "# Create DataFrame\n",
    "df = pd.DataFrame(results_data)\n",
    "\n",
    "print(\"\\n\" + \"=\"*100)\n",
    "print(\"COMPREHENSIVE PERFORMANCE ANALYSIS\")\n",
    "print(\"=\"*100)\n",
    "print(\"\\n\", df.to_string(index=False))\n",
    "\n",
    "# Summary statistics\n",
    "print(\"\\n\" + \"=\"*100)\n",
    "print(\"SUMMARY STATISTICS\")\n",
    "print(\"=\"*100)\n",
    "print(f\"\\nAverage Scores Across All Queries:\")\n",
    "print(f\"  Vector:  {df['Vector Avg Score'].mean():.4f}\")\n",
    "print(f\"  BM25:    {df['BM25 Avg Score'].mean():.4f}\")\n",
    "print(f\"  Hybrid:  {df['Hybrid Avg Score'].mean():.4f}\")\n",
    "\n",
    "print(f\"\\nAverage Diversity (Unique Sources in Top 3):\")\n",
    "print(f\"  Vector:  {df['Vector Diversity'].mean():.2f}\")\n",
    "print(f\"  BM25:    {df['BM25 Diversity'].mean():.2f}\")\n",
    "print(f\"  Hybrid:  {df['Hybrid Diversity'].mean():.2f}\")"
   ]
  },
  {
   "cell_type": "markdown",
   "id": "016f98f2",
   "metadata": {},
   "source": [
    "## 10. Visualization"
   ]
  },
  {
   "cell_type": "code",
   "execution_count": 14,
   "id": "ce6a591c",
   "metadata": {},
   "outputs": [
    {
     "data": {
      "image/png": "[encoded data removed]",
      "text/plain": [
       "<Figure size 1600x600 with 2 Axes>"
      ]
     },
     "metadata": {},
     "output_type": "display_data"
    },
    {
     "name": "stdout",
     "output_type": "stream",
     "text": [
      "\n",
      "✓ Visualization saved as 'hybrid_search_comparison.png'\n"
     ]
    }
   ],
   "source": [
    "import matplotlib.pyplot as plt\n",
    "\n",
    "# Prepare data\n",
    "query_types = df['Query Type'].values\n",
    "vector_scores = df['Vector Avg Score'].values\n",
    "bm25_scores = df['BM25 Avg Score'].values\n",
    "hybrid_scores = df['Hybrid Avg Score'].values\n",
    "\n",
    "# Create visualization\n",
    "fig, (ax1, ax2) = plt.subplots(1, 2, figsize=(16, 6))\n",
    "\n",
    "# Plot 1: Score comparison\n",
    "x = np.arange(len(query_types))\n",
    "width = 0.25\n",
    "\n",
    "bars1 = ax1.bar(x - width, vector_scores, width, label='Dense Vector', alpha=0.8, color='#3498db')\n",
    "bars2 = ax1.bar(x, bm25_scores, width, label='BM25 Sparse', alpha=0.8, color='#e67e22')\n",
    "bars3 = ax1.bar(x + width, hybrid_scores, width, label='Hybrid', alpha=0.8, color='#2ecc71')\n",
    "\n",
    "ax1.set_xlabel('Query Type', fontsize=12, fontweight='bold')\n",
    "ax1.set_ylabel('Average Relevance Score', fontsize=12, fontweight='bold')\n",
    "ax1.set_title('Retrieval Performance by Query Type', fontsize=14, fontweight='bold')\n",
    "ax1.set_xticks(x)\n",
    "ax1.set_xticklabels(query_types, rotation=0)\n",
    "ax1.legend(loc='upper right')\n",
    "ax1.grid(axis='y', alpha=0.3)\n",
    "\n",
    "# Plot 2: Diversity comparison\n",
    "vector_div = df['Vector Diversity'].values\n",
    "bm25_div = df['BM25 Diversity'].values\n",
    "hybrid_div = df['Hybrid Diversity'].values\n",
    "\n",
    "bars4 = ax2.bar(x - width, vector_div, width, label='Dense Vector', alpha=0.8, color='#3498db')\n",
    "bars5 = ax2.bar(x, bm25_div, width, label='BM25 Sparse', alpha=0.8, color='#e67e22')\n",
    "bars6 = ax2.bar(x + width, hybrid_div, width, label='Hybrid', alpha=0.8, color='#2ecc71')\n",
    "\n",
    "ax2.set_xlabel('Query Type', fontsize=12, fontweight='bold')\n",
    "ax2.set_ylabel('Unique Sources (out of 3)', fontsize=12, fontweight='bold')\n",
    "ax2.set_title('Source Diversity by Query Type', fontsize=14, fontweight='bold')\n",
    "ax2.set_xticks(x)\n",
    "ax2.set_xticklabels(query_types, rotation=0)\n",
    "ax2.legend(loc='upper right')\n",
    "ax2.set_ylim(0, 3.5)\n",
    "ax2.grid(axis='y', alpha=0.3)\n",
    "\n",
    "plt.tight_layout()\n",
    "plt.savefig('hybrid_search_comparison.png', dpi=150, bbox_inches='tight')\n",
    "plt.show()\n",
    "\n",
    "print(\"\\n✓ Visualization saved as 'hybrid_search_comparison.png'\")"
   ]
  },
  {
   "cell_type": "markdown",
   "id": "52de2b6c",
   "metadata": {},
   "source": [
    "## 11. Custom Weighted Hybrid Search\n",
    "\n",
    "The QueryFusionRetriever uses RRF. Let's implement custom weighted fusion with an alpha parameter for more control."
   ]
  },
  {
   "cell_type": "code",
   "execution_count": 15,
   "id": "72ba7a1a",
   "metadata": {},
   "outputs": [
    {
     "name": "stdout",
     "output_type": "stream",
     "text": [
      "✓ Custom weighted hybrid search function defined\n"
     ]
    }
   ],
   "source": [
    "from llama_index.core.schema import NodeWithScore\n",
    "from typing import Dict\n",
    "\n",
    "def weighted_hybrid_search(\n",
    "    query: str,\n",
    "    vector_retriever,\n",
    "    bm25_retriever,\n",
    "    alpha: float = 0.5,\n",
    "    top_k: int = 5\n",
    ") -> List[NodeWithScore]:\n",
    "    \"\"\"\n",
    "    Implement custom weighted hybrid search.\n",
    "    \n",
    "    Args:\n",
    "        query: Search query\n",
    "        vector_retriever: Dense vector retriever\n",
    "        bm25_retriever: Sparse BM25 retriever\n",
    "        alpha: Weight for dense scores (0 = all BM25, 1 = all vector)\n",
    "        top_k: Number of results to return\n",
    "    \n",
    "    Returns:\n",
    "        Fused and reranked results\n",
    "    \"\"\"\n",
    "    query_bundle = QueryBundle(query_str=query)\n",
    "    \n",
    "    # Get results\n",
    "    vector_results = vector_retriever.retrieve(query_bundle)\n",
    "    bm25_results = bm25_retriever.retrieve(query_bundle)\n",
    "    \n",
    "    # Normalize scores to [0, 1] range\n",
    "    def normalize_scores(results):\n",
    "        if not results:\n",
    "            return {}\n",
    "        scores = [r.score for r in results]\n",
    "        min_score, max_score = min(scores), max(scores)\n",
    "        if max_score == min_score:\n",
    "            return {r.node.node_id: 1.0 for r in results}\n",
    "        return {\n",
    "            r.node.node_id: (r.score - min_score) / (max_score - min_score)\n",
    "            for r in results\n",
    "        }\n",
    "    \n",
    "    vector_scores_norm = normalize_scores(vector_results)\n",
    "    bm25_scores_norm = normalize_scores(bm25_results)\n",
    "    \n",
    "    # Combine scores with weighting\n",
    "    all_node_ids = set(vector_scores_norm.keys()) | set(bm25_scores_norm.keys())\n",
    "    combined_scores = {}\n",
    "    node_map = {}\n",
    "    \n",
    "    # Map nodes\n",
    "    for result in vector_results + bm25_results:\n",
    "        node_map[result.node.node_id] = result.node\n",
    "    \n",
    "    # Calculate weighted scores\n",
    "    for node_id in all_node_ids:\n",
    "        vector_score = vector_scores_norm.get(node_id, 0.0)\n",
    "        bm25_score = bm25_scores_norm.get(node_id, 0.0)\n",
    "        \n",
    "        # Weighted combination\n",
    "        combined_scores[node_id] = alpha * vector_score + (1 - alpha) * bm25_score\n",
    "    \n",
    "    # Sort and create results\n",
    "    sorted_nodes = sorted(\n",
    "        combined_scores.items(),\n",
    "        key=lambda x: x[1],\n",
    "        reverse=True\n",
    "    )[:top_k]\n",
    "    \n",
    "    results = [\n",
    "        NodeWithScore(node=node_map[node_id], score=score)\n",
    "        for node_id, score in sorted_nodes\n",
    "    ]\n",
    "    \n",
    "    return results\n",
    "\n",
    "print(\"✓ Custom weighted hybrid search function defined\")"
   ]
  },
  {
   "cell_type": "markdown",
   "id": "4c73cee3",
   "metadata": {},
   "source": [
    "### Test Different Alpha Values"
   ]
  },
  {
   "cell_type": "code",
   "execution_count": 16,
   "id": "821ba56b",
   "metadata": {},
   "outputs": [
    {
     "name": "stdout",
     "output_type": "stream",
     "text": [
      "\n",
      "====================================================================================================\n",
      "TESTING ALPHA PARAMETER: What are the components of a transformer model?\n",
      "====================================================================================================\n"
     ]
    },
    {
     "name": "stderr",
     "output_type": "stream",
     "text": [
      "2025-10-16 14:41:17,659 - INFO - HTTP Request: POST https://aoai-sweden-505.openai.azure.com/openai/deployments/text-embedding-ada-002/embeddings?api-version=2024-02-15-preview \"HTTP/1.1 200 OK\"\n"
     ]
    },
    {
     "name": "stdout",
     "output_type": "stream",
     "text": [
      "\n",
      "α = 0.00 (Pure BM25)\n",
      "----------------------------------------------------------------------------------------------------\n",
      "  1. transformer_architecture                 Score: 1.0000\n",
      "  2. transformer_architecture                 Score: 0.5008\n",
      "  3. docker_containers                        Score: 0.3534\n"
     ]
    },
    {
     "name": "stderr",
     "output_type": "stream",
     "text": [
      "2025-10-16 14:41:17,772 - INFO - HTTP Request: POST https://aoai-sweden-505.openai.azure.com/openai/deployments/text-embedding-ada-002/embeddings?api-version=2024-02-15-preview \"HTTP/1.1 200 OK\"\n"
     ]
    },
    {
     "name": "stdout",
     "output_type": "stream",
     "text": [
      "\n",
      "α = 0.25 \n",
      "----------------------------------------------------------------------------------------------------\n",
      "  1. transformer_architecture                 Score: 0.9606\n",
      "  2. transformer_architecture                 Score: 0.6256\n",
      "  3. docker_containers                        Score: 0.2651\n"
     ]
    },
    {
     "name": "stderr",
     "output_type": "stream",
     "text": [
      "2025-10-16 14:41:17,889 - INFO - HTTP Request: POST https://aoai-sweden-505.openai.azure.com/openai/deployments/text-embedding-ada-002/embeddings?api-version=2024-02-15-preview \"HTTP/1.1 200 OK\"\n"
     ]
    },
    {
     "name": "stdout",
     "output_type": "stream",
     "text": [
      "\n",
      "α = 0.50 (Balanced)\n",
      "----------------------------------------------------------------------------------------------------\n",
      "  1. transformer_architecture                 Score: 0.9213\n",
      "  2. transformer_architecture                 Score: 0.7504\n",
      "  3. transformer_architecture                 Score: 0.2998\n"
     ]
    },
    {
     "name": "stderr",
     "output_type": "stream",
     "text": [
      "2025-10-16 14:41:18,002 - INFO - HTTP Request: POST https://aoai-sweden-505.openai.azure.com/openai/deployments/text-embedding-ada-002/embeddings?api-version=2024-02-15-preview \"HTTP/1.1 200 OK\"\n"
     ]
    },
    {
     "name": "stdout",
     "output_type": "stream",
     "text": [
      "\n",
      "α = 0.75 \n",
      "----------------------------------------------------------------------------------------------------\n",
      "  1. transformer_architecture                 Score: 0.8819\n",
      "  2. transformer_architecture                 Score: 0.8752\n",
      "  3. transformer_architecture                 Score: 0.4497\n"
     ]
    },
    {
     "name": "stderr",
     "output_type": "stream",
     "text": [
      "2025-10-16 14:41:18,121 - INFO - HTTP Request: POST https://aoai-sweden-505.openai.azure.com/openai/deployments/text-embedding-ada-002/embeddings?api-version=2024-02-15-preview \"HTTP/1.1 200 OK\"\n"
     ]
    },
    {
     "name": "stdout",
     "output_type": "stream",
     "text": [
      "\n",
      "α = 1.00 (Pure Vector)\n",
      "----------------------------------------------------------------------------------------------------\n",
      "  1. transformer_architecture                 Score: 1.0000\n",
      "  2. transformer_architecture                 Score: 0.8426\n",
      "  3. transformer_architecture                 Score: 0.5996\n"
     ]
    }
   ],
   "source": [
    "test_query = \"What are the components of a transformer model?\"\n",
    "\n",
    "print(f\"\\n{'='*100}\")\n",
    "print(f\"TESTING ALPHA PARAMETER: {test_query}\")\n",
    "print(f\"{'='*100}\")\n",
    "\n",
    "alphas = [0.0, 0.25, 0.5, 0.75, 1.0]\n",
    "\n",
    "for alpha in alphas:\n",
    "    results = weighted_hybrid_search(\n",
    "        test_query,\n",
    "        vector_retriever,\n",
    "        bm25_retriever,\n",
    "        alpha=alpha,\n",
    "        top_k=3\n",
    "    )\n",
    "    \n",
    "    print(f\"\\nα = {alpha:.2f} {'(Pure BM25)' if alpha == 0 else '(Pure Vector)' if alpha == 1 else '(Balanced)' if alpha == 0.5 else ''}\")\n",
    "    print(\"-\" * 100)\n",
    "    \n",
    "    for i, node in enumerate(results, 1):\n",
    "        source = Path(node.node.metadata.get('file_name', 'unknown')).stem\n",
    "        print(f\"  {i}. {source:<40} Score: {node.score:.4f}\")"
   ]
  },
  {
   "cell_type": "markdown",
   "id": "3eca0ca8",
   "metadata": {},
   "source": [
    "## Key Takeaways\n",
    "\n",
    "### What We Learned\n",
    "\n",
    "1. **Complementary Strengths**: Dense and sparse retrieval excel at different tasks:\n",
    "   - Dense (vector): Semantic similarity, synonyms, conceptual understanding\n",
    "   - Sparse (BM25): Exact terms, acronyms, rare keywords, specific jargon\n",
    "\n",
    "2. **Hybrid is More Robust**: Combining both methods provides consistent performance across diverse query types, hedging against the weaknesses of either approach alone.\n",
    "\n",
    "3. **No Universal Winner**: The \"best\" retrieval method depends on the query type and domain. Hybrid search provides insurance against edge cases.\n",
    "\n",
    "4. **Fusion Strategies Matter**: \n",
    "   - RRF (Reciprocal Rank Fusion): Simple, no normalization needed, robust\n",
    "   - Weighted fusion: Allows fine-tuning with alpha parameter for domain-specific optimization\n",
    "\n",
    "5. **BM25 Still Relevant**: Despite the hype around embeddings, traditional BM25 remains highly effective for many retrieval tasks, especially with technical content.\n",
    "\n",
    "### When to Use Each Approach\n",
    "\n",
    "#### Use Dense Vector Search When:\n",
    "- Queries are conceptual or semantic\n",
    "- Users may use different vocabulary than documents\n",
    "- Paraphrasing and synonyms are common\n",
    "- Domain requires understanding context\n",
    "\n",
    "#### Use BM25 Sparse Search When:\n",
    "- Exact keyword matching is critical\n",
    "- Content has many acronyms, product codes, or jargon\n",
    "- Rare or unique terms are important signals\n",
    "- You need fast, deterministic, interpretable results\n",
    "\n",
    "#### Use Hybrid Search When:\n",
    "- Query types are diverse and unpredictable\n",
    "- You need robust performance across all scenarios\n",
    "- Content mixes technical terms with natural language\n",
    "- Production systems where reliability > marginal performance gains\n",
    "- **Recommendation**: Use hybrid as the default for production RAG systems\n",
    "\n",
    "### Implementation Best Practices\n",
    "\n",
    "1. **Start with Hybrid**: Unless you have specific reasons not to, hybrid search is the safest default\n",
    "2. **Tune Alpha**: For weighted fusion, start at α=0.5, then adjust based on evaluation:\n",
    "   - α > 0.5: Favor semantic search (more natural language)\n",
    "   - α < 0.5: Favor keyword search (more technical jargon)\n",
    "3. **Normalize Scores**: When using weighted fusion, always normalize scores before combining\n",
    "4. **Monitor Performance**: Track which retriever \"wins\" for different query types to inform tuning\n",
    "\n",
    "### Next Steps\n",
    "\n",
    "In the next demo, we'll explore **Hierarchical Retrieval** with sentence window techniques, which addresses a different problem: optimizing the granularity of retrieval versus generation context."
   ]
  }
 ],
 "metadata": {
  "kernelspec": {
   "display_name": "rag-workshop",
   "language": "python",
   "name": "python3"
  },
  "language_info": {
   "codemirror_mode": {
    "name": "ipython",
    "version": 3
   },
   "file_extension": ".py",
   "mimetype": "text/x-python",
   "name": "python",
   "nbconvert_exporter": "python",
   "pygments_lexer": "ipython3",
   "version": "3.13.3"
  }
 },
 "nbformat": 4,
 "nbformat_minor": 5
}
